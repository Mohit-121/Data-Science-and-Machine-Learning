{
 "cells": [
  {
   "cell_type": "code",
   "execution_count": 20,
   "metadata": {},
   "outputs": [
    {
     "name": "stdout",
     "output_type": "stream",
     "text": [
      "aakash-cr7\n",
      "dakshkhetan\n",
      "ManishaKhattar\n",
      "namangupta01\n",
      "nidhiagarwal\n",
      "rohanraarora\n"
     ]
    }
   ],
   "source": [
    "import requests\n",
    "import json\n",
    "from requests.auth import HTTPBasicAuth\n",
    "res = requests.get('https://api.github.com/orgs/CodingNinjasCodes/members',auth=('Mohit-121','78effcaf2ae32c4ab1b9f889ed0cbb9ef0f82a48'),\n",
    "                  headers={\"Accept\":\"application/vnd.github.mercy-preview+json\"}).json()\n",
    "for member in res:\n",
    "    print(member['login'])"
   ]
  },
  {
   "cell_type": "code",
   "execution_count": 24,
   "metadata": {},
   "outputs": [
    {
     "name": "stdout",
     "output_type": "stream",
     "text": [
      "tushartuteja 5\n",
      "Rawal27 13\n",
      "Sherawat42 15\n"
     ]
    }
   ],
   "source": [
    "import requests\n",
    "import json\n",
    "from requests.auth import HTTPBasicAuth\n",
    "res = requests.get('https://api.github.com/repos/CodingNinjasCodes/JSNotes/stats/contributors',auth=('Mohit-121','78effcaf2ae32c4ab1b9f889ed0cbb9ef0f82a48'),\n",
    "                  headers={\"Accept\":\"application/vnd.github.mercy-preview+json\"}).json()\n",
    "\n",
    "\n",
    "for cont in res:\n",
    "    print(cont['author']['login'],cont['total'])"
   ]
  },
  {
   "cell_type": "code",
   "execution_count": 27,
   "metadata": {},
   "outputs": [
    {
     "name": "stdout",
     "output_type": "stream",
     "text": [
      "28\n"
     ]
    }
   ],
   "source": [
    "import requests\n",
    "import json\n",
    "from requests.auth import HTTPBasicAuth\n",
    "res = requests.get('https://api.github.com/repos/CodingNinjasCodes/SmoothScrollJs/community/profile',auth=('Mohit-121','78effcaf2ae32c4ab1b9f889ed0cbb9ef0f82a48'),\n",
    "                  headers={\"Accept\":\"application/vnd.github.mercy-preview+json\"}).json()\n",
    "print(res['health_percentage'])"
   ]
  },
  {
   "cell_type": "code",
   "execution_count": 45,
   "metadata": {},
   "outputs": [
    {
     "ename": "TypeError",
     "evalue": "string indices must be integers",
     "output_type": "error",
     "traceback": [
      "\u001b[1;31m---------------------------------------------------------------------------\u001b[0m",
      "\u001b[1;31mTypeError\u001b[0m                                 Traceback (most recent call last)",
      "\u001b[1;32m<ipython-input-45-f49ce2fd959b>\u001b[0m in \u001b[0;36m<module>\u001b[1;34m\u001b[0m\n\u001b[0;32m      8\u001b[0m \u001b[1;33m\u001b[0m\u001b[0m\n\u001b[0;32m      9\u001b[0m     \u001b[1;32mfor\u001b[0m \u001b[0mrepo\u001b[0m \u001b[1;32min\u001b[0m \u001b[0mres\u001b[0m\u001b[1;33m:\u001b[0m\u001b[1;33m\u001b[0m\u001b[1;33m\u001b[0m\u001b[0m\n\u001b[1;32m---> 10\u001b[1;33m         \u001b[0mprint\u001b[0m\u001b[1;33m(\u001b[0m\u001b[0mrepo\u001b[0m\u001b[1;33m[\u001b[0m\u001b[1;34m'name'\u001b[0m\u001b[1;33m]\u001b[0m\u001b[1;33m)\u001b[0m\u001b[1;33m\u001b[0m\u001b[1;33m\u001b[0m\u001b[0m\n\u001b[0m",
      "\u001b[1;31mTypeError\u001b[0m: string indices must be integers"
     ]
    }
   ],
   "source": [
    "import requests\n",
    "import json\n",
    "from requests.auth import HTTPBasicAuth\n",
    "for i in range(1,4):\n",
    "    res = requests.get('https://api.github.com/orgs/fossasia/repos?page='+str(i)+'&per_page=100',params={'type':'all'},\n",
    "                       auth=('Mohit-121','78effcaf2ae32c4ab1b9f889ed0cbb9ef0f82a48'),\n",
    "                      headers={\"Accept\":\"application/vnd.github.mercy-preview+json\"}).json()\n",
    "\n",
    "    for repo in res:\n",
    "        print(repo['name'])\n",
    "        \n",
    "# token is revoked, can be generated, read through github documentation for it."
   ]
  }
 ],
 "metadata": {
  "kernelspec": {
   "display_name": "Python 3",
   "language": "python",
   "name": "python3"
  },
  "language_info": {
   "codemirror_mode": {
    "name": "ipython",
    "version": 3
   },
   "file_extension": ".py",
   "mimetype": "text/x-python",
   "name": "python",
   "nbconvert_exporter": "python",
   "pygments_lexer": "ipython3",
   "version": "3.8.3"
  }
 },
 "nbformat": 4,
 "nbformat_minor": 4
}
