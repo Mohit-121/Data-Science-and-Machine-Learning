{
 "cells": [
  {
   "cell_type": "markdown",
   "metadata": {},
   "source": [
    "## Numpy Arrays\n",
    "Always could refer the documentation of numpy for any assistance regarding how any function works"
   ]
  },
  {
   "cell_type": "code",
   "execution_count": 3,
   "metadata": {},
   "outputs": [
    {
     "data": {
      "text/plain": [
       "array([1., 2., 3.])"
      ]
     },
     "execution_count": 3,
     "metadata": {},
     "output_type": "execute_result"
    }
   ],
   "source": [
    "import numpy as np\n",
    "a = np.array([1,2,3],dtype=float)\n",
    "a"
   ]
  },
  {
   "cell_type": "code",
   "execution_count": 10,
   "metadata": {},
   "outputs": [
    {
     "data": {
      "text/plain": [
       "array([0., 0., 0., 0., 0.])"
      ]
     },
     "execution_count": 10,
     "metadata": {},
     "output_type": "execute_result"
    }
   ],
   "source": [
    "a = np.ones(5, dtype=int)\n",
    "a\n",
    "b = np.zeros(5,dtype=float)\n",
    "b"
   ]
  },
  {
   "cell_type": "code",
   "execution_count": 14,
   "metadata": {},
   "outputs": [
    {
     "data": {
      "text/plain": [
       "array([[100.5, 100.5, 100.5],\n",
       "       [100.5, 100.5, 100.5],\n",
       "       [100.5, 100.5, 100.5],\n",
       "       [100.5, 100.5, 100.5],\n",
       "       [100.5, 100.5, 100.5]])"
      ]
     },
     "execution_count": 14,
     "metadata": {},
     "output_type": "execute_result"
    }
   ],
   "source": [
    "a = np.full((5,3), 100.5)\n",
    "a"
   ]
  },
  {
   "cell_type": "code",
   "execution_count": 34,
   "metadata": {},
   "outputs": [
    {
     "data": {
      "text/plain": [
       "array([8.70892463e-153, 6.01346953e-154, 5.98179233e-154, 1.03063392e-113,\n",
       "       1.05117820e-153])"
      ]
     },
     "execution_count": 34,
     "metadata": {},
     "output_type": "execute_result"
    }
   ],
   "source": [
    "a = np.empty(5,dtype=float)\n",
    "a"
   ]
  },
  {
   "cell_type": "code",
   "execution_count": 37,
   "metadata": {},
   "outputs": [
    {
     "name": "stdout",
     "output_type": "stream",
     "text": [
      "[0 1 2 3 4 5 6 7 8 9]\n",
      "[2 3 4 5 6 7 8 9]\n"
     ]
    },
    {
     "data": {
      "text/plain": [
       "array([2., 7.])"
      ]
     },
     "execution_count": 37,
     "metadata": {},
     "output_type": "execute_result"
    }
   ],
   "source": [
    "a = np.arange(10)\n",
    "print(a)\n",
    "a = np.arange(2,10)\n",
    "print(a)\n",
    "a = np.arange(2,10,5,dtype=float)\n",
    "a"
   ]
  },
  {
   "cell_type": "code",
   "execution_count": 42,
   "metadata": {},
   "outputs": [
    {
     "name": "stdout",
     "output_type": "stream",
     "text": [
      "[ 2.          2.57142857  3.14285714  3.71428571  4.28571429  4.85714286\n",
      "  5.42857143  6.          6.57142857  7.14285714  7.71428571  8.28571429\n",
      "  8.85714286  9.42857143 10.        ]\n",
      "0.5714285714285712\n",
      "0.5714285714285716\n"
     ]
    }
   ],
   "source": [
    "a = np.linspace(2,10,15)\n",
    "print(a)\n",
    "print(a[1]-a[0])\n",
    "print(a[2]-a[1])"
   ]
  },
  {
   "cell_type": "code",
   "execution_count": 43,
   "metadata": {},
   "outputs": [
    {
     "name": "stdout",
     "output_type": "stream",
     "text": [
      "[[1. 0. 0.]\n",
      " [0. 1. 0.]\n",
      " [0. 0. 1.]]\n"
     ]
    }
   ],
   "source": [
    "a = np.identity(3)    #creates an identity matrix of n*n\n",
    "print(a)"
   ]
  },
  {
   "cell_type": "code",
   "execution_count": 45,
   "metadata": {},
   "outputs": [
    {
     "data": {
      "text/plain": [
       "array([[1., 0., 0., 0.],\n",
       "       [0., 1., 0., 0.],\n",
       "       [0., 0., 1., 0.]])"
      ]
     },
     "execution_count": 45,
     "metadata": {},
     "output_type": "execute_result"
    }
   ],
   "source": [
    "a = np.eye(3,4)\n",
    "a"
   ]
  },
  {
   "cell_type": "code",
   "execution_count": 67,
   "metadata": {},
   "outputs": [
    {
     "name": "stdout",
     "output_type": "stream",
     "text": [
      "[ 0.53782681  0.87163572  0.23273026  1.21774695  0.76012067  0.35456727\n",
      " -1.45181524 -0.37059234 -2.24089586 -0.4804573 ]\n",
      "(10,)\n",
      "[8.04551366 4.4715936  0.62271455 5.91412985 7.91034904 1.91123798\n",
      " 5.39060898 3.67021859 8.39945808 3.56831165]\n",
      "[[17 12  0 24]\n",
      " [30 29 47 31]\n",
      " [43  0 27 29]]\n",
      "(3, 4)\n"
     ]
    },
    {
     "ename": "ValueError",
     "evalue": "low >= high",
     "output_type": "error",
     "traceback": [
      "\u001b[1;31m------------------------------\u001b[0m",
      "\u001b[1;31mValueError\u001b[0mTraceback (most recent call last)",
      "\u001b[1;32m<ipython-input-67-4683654dc305>\u001b[0m in \u001b[0;36m<module>\u001b[1;34m\u001b[0m\n\u001b[0;32m      7\u001b[0m \u001b[0mprint\u001b[0m\u001b[1;33m(\u001b[0m\u001b[0ma\u001b[0m\u001b[1;33m)\u001b[0m\u001b[1;33m\u001b[0m\u001b[1;33m\u001b[0m\u001b[0m\n\u001b[0;32m      8\u001b[0m \u001b[0mprint\u001b[0m\u001b[1;33m(\u001b[0m\u001b[0ma\u001b[0m\u001b[1;33m.\u001b[0m\u001b[0mshape\u001b[0m\u001b[1;33m)\u001b[0m\u001b[1;33m\u001b[0m\u001b[1;33m\u001b[0m\u001b[0m\n\u001b[1;32m----> 9\u001b[1;33m \u001b[0mnp\u001b[0m\u001b[1;33m.\u001b[0m\u001b[0mrandom\u001b[0m\u001b[1;33m.\u001b[0m\u001b[0mrandint\u001b[0m\u001b[1;33m(\u001b[0m\u001b[1;36m10\u001b[0m\u001b[1;33m,\u001b[0m \u001b[1;36m4\u001b[0m\u001b[1;33m)\u001b[0m\u001b[1;33m\u001b[0m\u001b[1;33m\u001b[0m\u001b[0m\n\u001b[0m",
      "\u001b[1;32mmtrand.pyx\u001b[0m in \u001b[0;36mnumpy.random.mtrand.RandomState.randint\u001b[1;34m()\u001b[0m\n",
      "\u001b[1;32m_bounded_integers.pyx\u001b[0m in \u001b[0;36mnumpy.random._bounded_integers._rand_int32\u001b[1;34m()\u001b[0m\n",
      "\u001b[1;31mValueError\u001b[0m: low >= high"
     ]
    }
   ],
   "source": [
    "a = np.random.randn(10)\n",
    "print(a)\n",
    "print(a.shape)\n",
    "a = np.random.rand(10)*10\n",
    "print(a)\n",
    "a = np.random.randint(49,size=(3,4))\n",
    "print(a)\n",
    "print(a.shape)\n",
    "np.random.randint(10, 4)"
   ]
  },
  {
   "cell_type": "markdown",
   "metadata": {},
   "source": [
    "## Mathematical operations on numpy arrays"
   ]
  },
  {
   "cell_type": "code",
   "execution_count": 6,
   "metadata": {},
   "outputs": [
    {
     "data": {
      "text/plain": [
       "array([1, 3, 0, 0, 3])"
      ]
     },
     "execution_count": 6,
     "metadata": {},
     "output_type": "execute_result"
    }
   ],
   "source": [
    "a = np.random.randint(0,5,5)\n",
    "b = np.random.randint(5,10,5)"
   ]
  },
  {
   "cell_type": "code",
   "execution_count": 8,
   "metadata": {},
   "outputs": [
    {
     "name": "stdout",
     "output_type": "stream",
     "text": [
      "[1 3 0 0 3]\n",
      "[ 9 11  5  6  8]\n",
      "[10 14  5  6 11]\n",
      "[10 42  0  0 33]\n",
      "[0.1        0.21428571 0.         0.         0.27272727]\n",
      "[0 0 0 0 0]\n",
      "[      1 4782969       0       0  177147]\n"
     ]
    }
   ],
   "source": [
    "print(a)\n",
    "print(b)\n",
    "b = a + b\n",
    "c = a*b\n",
    "d = a / b\n",
    "e = a // b\n",
    "f = a ** b\n",
    "print(b)\n",
    "print(c)\n",
    "print(d)\n",
    "print(e)\n",
    "print(f)"
   ]
  },
  {
   "cell_type": "code",
   "execution_count": 10,
   "metadata": {},
   "outputs": [
    {
     "name": "stdout",
     "output_type": "stream",
     "text": [
      "7\n",
      "1.4\n",
      "0\n",
      "3\n",
      "2\n",
      "1\n"
     ]
    }
   ],
   "source": [
    "print(a.sum())\n",
    "print(a.mean())\n",
    "print(a.min())\n",
    "print(a.max())\n",
    "print(a.argmin())\n",
    "print(a.argmax())"
   ]
  },
  {
   "cell_type": "code",
   "execution_count": 11,
   "metadata": {},
   "outputs": [
    {
     "name": "stdout",
     "output_type": "stream",
     "text": [
      "[False False False False False]\n",
      "[False False False False False]\n",
      "[ True  True  True  True  True]\n"
     ]
    }
   ],
   "source": [
    "print(a>b)\n",
    "print(a==b)\n",
    "print(a!=b)"
   ]
  },
  {
   "cell_type": "code",
   "execution_count": 13,
   "metadata": {},
   "outputs": [
    {
     "name": "stdout",
     "output_type": "stream",
     "text": [
      "[False False False False False]\n",
      "[ True  True  True  True  True]\n",
      "[False False  True  True False]\n"
     ]
    }
   ],
   "source": [
    "print(np.logical_and(a,b))\n",
    "print(np.logical_or(a,b))\n",
    "print(np.logical_not(a))"
   ]
  },
  {
   "cell_type": "markdown",
   "metadata": {},
   "source": [
    "## Boolean Indexing"
   ]
  },
  {
   "cell_type": "code",
   "execution_count": 16,
   "metadata": {},
   "outputs": [
    {
     "name": "stdout",
     "output_type": "stream",
     "text": [
      "[  1   5   8  15 105  26]\n",
      "[  8  15 105  26]\n",
      "[ 8 15 26]\n"
     ]
    }
   ],
   "source": [
    "a = np.array([1,5,8, 15, 105,26])\n",
    "print(a)\n",
    "print(a[a>5])\n",
    "print(a[(a>5) & (a<100)])"
   ]
  },
  {
   "cell_type": "code",
   "execution_count": 18,
   "metadata": {},
   "outputs": [
    {
     "data": {
      "text/plain": [
       "array([100, 100, 100,  15, 105,  26])"
      ]
     },
     "execution_count": 18,
     "metadata": {},
     "output_type": "execute_result"
    }
   ],
   "source": [
    "a[:3]=100\n",
    "a"
   ]
  },
  {
   "cell_type": "code",
   "execution_count": 20,
   "metadata": {},
   "outputs": [
    {
     "data": {
      "text/plain": [
       "array([  5,   5,   5,  15, 105,  26])"
      ]
     },
     "execution_count": 20,
     "metadata": {},
     "output_type": "execute_result"
    }
   ],
   "source": [
    "a[a==100]=5\n",
    "a"
   ]
  },
  {
   "cell_type": "code",
   "execution_count": 29,
   "metadata": {},
   "outputs": [
    {
     "name": "stdout",
     "output_type": "stream",
     "text": [
      "(array([0, 1, 2], dtype=int64),)\n",
      "[10 25 98]\n",
      "[  5   5   5  15 105  26]\n"
     ]
    },
    {
     "data": {
      "text/plain": [
       "array([  -5,   -5,   -5,  -15, -105,  -26])"
      ]
     },
     "execution_count": 29,
     "metadata": {},
     "output_type": "execute_result"
    }
   ],
   "source": [
    "ind = np.where(a==5)\n",
    "print(ind)\n",
    "b = np.array([10,25,98,47,55])\n",
    "print(b[ind])\n",
    "print(a)\n",
    "a=-a\n",
    "a"
   ]
  },
  {
   "cell_type": "code",
   "execution_count": 31,
   "metadata": {},
   "outputs": [
    {
     "data": {
      "text/plain": [
       "array([-10, -25, -98,  47,  55])"
      ]
     },
     "execution_count": 31,
     "metadata": {},
     "output_type": "execute_result"
    }
   ],
   "source": [
    "b[ind]=-b[ind]\n",
    "b"
   ]
  },
  {
   "cell_type": "code",
   "execution_count": 32,
   "metadata": {},
   "outputs": [
    {
     "name": "stdout",
     "output_type": "stream",
     "text": [
      "[[5 9 9]\n",
      " [8 4 8]\n",
      " [9 7 8]]\n"
     ]
    }
   ],
   "source": [
    "b = np.random.randint(1,10,(3,3))\n",
    "print(b)"
   ]
  },
  {
   "cell_type": "code",
   "execution_count": 37,
   "metadata": {},
   "outputs": [
    {
     "name": "stdout",
     "output_type": "stream",
     "text": [
      "[ True False  True]\n"
     ]
    },
    {
     "data": {
      "text/plain": [
       "array([[ 5, 10,  9],\n",
       "       [ 8,  4,  8],\n",
       "       [ 9, 10,  8]])"
      ]
     },
     "execution_count": 37,
     "metadata": {},
     "output_type": "execute_result"
    }
   ],
   "source": [
    "bool_arr = b[:,1]>5\n",
    "print(bool_arr)\n",
    "b[bool_arr,1]=10\n",
    "b"
   ]
  },
  {
   "cell_type": "markdown",
   "metadata": {},
   "source": [
    "## Broadcasting"
   ]
  },
  {
   "cell_type": "code",
   "execution_count": 43,
   "metadata": {},
   "outputs": [
    {
     "name": "stdout",
     "output_type": "stream",
     "text": [
      "[[5 5 4 5 3]\n",
      " [1 7 2 3 7]\n",
      " [5 1 8 8 2]]\n",
      "[4 2 8 3 6]\n",
      "[[4 1 5]\n",
      " [7 3 6]\n",
      " [6 7 9]\n",
      " [4 7 1]\n",
      " [2 3 4]]\n",
      "(3, 5) (5,) (5, 3)\n"
     ]
    }
   ],
   "source": [
    "## Rules of compatability\n",
    "## 1) If the all the dimensions are same example 3,4 is comptabile with 3,4\n",
    "## 2) If any one of the dimension is one example 3,5 is compatible with 1,5 here broadcasting takes place\n",
    "\n",
    "a = np.random.randint(1,10,(3,5))\n",
    "b = np.random.randint(1,10,(5))\n",
    "c = np.random.randint(1,10,(5,3))\n",
    "print(a)\n",
    "print(b)\n",
    "print(c)\n",
    "print(a.shape,b.shape,c.shape)"
   ]
  },
  {
   "cell_type": "code",
   "execution_count": 52,
   "metadata": {},
   "outputs": [
    {
     "name": "stdout",
     "output_type": "stream",
     "text": [
      "[[ 9  7 12  8  9]\n",
      " [ 5  9 10  6 13]\n",
      " [ 9  3 16 11  8]]\n",
      "(3, 5) (3, 5)\n",
      "[[ 9 12 10  9  5]\n",
      " [ 2 10  9 10 10]\n",
      " [10  7 17  9  6]]\n"
     ]
    }
   ],
   "source": [
    "d = a+b\n",
    "print(d)\n",
    "#ans = a+c  # This gives error\n",
    "#print(ans)\n",
    "c = np.transpose(c)\n",
    "print(a.shape,c.shape)\n",
    "ans = a + c\n",
    "print(ans)"
   ]
  },
  {
   "cell_type": "code",
   "execution_count": null,
   "metadata": {},
   "outputs": [],
   "source": []
  }
 ],
 "metadata": {
  "kernelspec": {
   "display_name": "Python 3",
   "language": "python",
   "name": "python3"
  },
  "language_info": {
   "codemirror_mode": {
    "name": "ipython",
    "version": 3
   },
   "file_extension": ".py",
   "mimetype": "text/x-python",
   "name": "python",
   "nbconvert_exporter": "python",
   "pygments_lexer": "ipython3",
   "version": "3.8.3"
  }
 },
 "nbformat": 4,
 "nbformat_minor": 4
}
