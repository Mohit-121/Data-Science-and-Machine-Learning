{
 "cells": [
  {
   "cell_type": "code",
   "execution_count": 119,
   "metadata": {},
   "outputs": [
    {
     "name": "stdout",
     "output_type": "stream",
     "text": [
      "73\n"
     ]
    }
   ],
   "source": [
    "# Find cusine_id of Mexican cuisine\n",
    "import requests\n",
    "import json\n",
    "from requests.auth import HTTPBasicAuth\n",
    "res = requests.get('https://developers.zomato.com/api/v2.1/cuisines',\n",
    "                   headers={\"Accept\": \"application/json\",\"user-key\":\"f243e3020e13a74ac2b77c51dcb94a04\"},\n",
    "                  params={\"city_id\":\"6\"}).json()\n",
    "for key in res['cuisines']:\n",
    "    if(key['cuisine']['cuisine_name']=='Mexican'):\n",
    "        print(key['cuisine']['cuisine_id'])"
   ]
  },
  {
   "cell_type": "code",
   "execution_count": 21,
   "metadata": {},
   "outputs": [
    {
     "name": "stdout",
     "output_type": "stream",
     "text": [
      "104 subzone\n"
     ]
    }
   ],
   "source": [
    "# Fetch the entityid and entitytype of place Connaught Place.\n",
    "# Print the entitytype and entityid\n",
    "import requests\n",
    "import json\n",
    "from requests.auth import HTTPBasicAuth\n",
    "res = requests.get('https://developers.zomato.com/api/v2.1/locations',\n",
    "                   headers={\"Accept\": \"application/json\",\"user-key\":\"f243e3020e13a74ac2b77c51dcb94a04\"},\n",
    "                  params={\"query\":\"Connaught Place\"}).json()\n",
    "for loc in res['location_suggestions']:\n",
    "    if('Connaught Place' in loc['title']):\n",
    "        print(loc['entity_type'],loc['entity_id'])"
   ]
  },
  {
   "cell_type": "code",
   "execution_count": 90,
   "metadata": {},
   "outputs": [
    {
     "name": "stdout",
     "output_type": "stream",
     "text": [
      "Station Bar 4.6 18851371\n",
      "Farzi Cafe 4.5 18233593\n",
      "Tamasha 4.4 18238278\n",
      "Ministry Of Beer 4.4 18418277\n",
      "Master Of Malts 4.4 18391149\n",
      "Chili's Grill & Bar 4.4 18537536\n",
      "Local 4.3 18382360\n",
      "The Junkyard Cafe 4.3 313256\n",
      "Xero Degrees 4.3 18729557\n",
      "Teddy Boy 4.3 18281985\n"
     ]
    }
   ],
   "source": [
    "# Fetch the top 10 best-rated restaurant serving ‘Mexican’ cuisine present in Connaught Place.\n",
    "# Print the restaurant name, user rating and restaurant id.\n",
    "import requests\n",
    "import json\n",
    "from requests.auth import HTTPBasicAuth\n",
    "res = requests.get('https://developers.zomato.com/api/v2.1/search',\n",
    "                   headers={\"Accept\": \"application/json\",\"user-key\":\"f243e3020e13a74ac2b77c51dcb94a04\"},\n",
    "                  params={\"entity_id\":\"104\",\"entity_type\": \"subzone\",\"cuisines\":\"73\",\"count\":\"10\",\n",
    "                          \"sort\":\"rating\",\"order\":\"desc\"}).json()\n",
    "for rest in res['restaurants']:\n",
    "    print(rest['restaurant']['name'],rest['restaurant']['user_rating']['aggregate_rating'],rest['restaurant']['id'])"
   ]
  },
  {
   "cell_type": "code",
   "execution_count": 97,
   "metadata": {},
   "outputs": [
    {
     "name": "stdout",
     "output_type": "stream",
     "text": [
      "6\n"
     ]
    }
   ],
   "source": [
    "#Fetch the category id of category type ‘Cafes’ using Zomato API.\n",
    "#Print the category_id.\n",
    "import requests\n",
    "import json\n",
    "from requests.auth import HTTPBasicAuth\n",
    "res = requests.get('https://developers.zomato.com/api/v2.1/categories',\n",
    "                   headers={\"Accept\": \"application/json\",\"user-key\":\"f243e3020e13a74ac2b77c51dcb94a04\"}).json()\n",
    "for cat in res['categories']:\n",
    "    if(cat['categories']['name']=='Cafes'):\n",
    "        print(cat['categories']['id'])"
   ]
  },
  {
   "cell_type": "code",
   "execution_count": 99,
   "metadata": {},
   "outputs": [
    {
     "name": "stdout",
     "output_type": "stream",
     "text": [
      "Xero Degrees 4.3 18729557\n",
      "Chaayos - Meri Wali Chai 4.1 18237315\n",
      "The Art House Bar n Cafe 4.0 18863766\n",
      "Cafe Coffee Day - The Square 3.5 303034\n"
     ]
    }
   ],
   "source": [
    "# Fetch the best-rated restaurant for ‘Mexican’ cuisine with category type ‘ Cafes’ present in Connaught Place using Zomato API.\n",
    "# Print the restaurant name, user rating and restaurant id.\n",
    "import requests\n",
    "import json\n",
    "from requests.auth import HTTPBasicAuth\n",
    "res = requests.get('https://developers.zomato.com/api/v2.1/search',\n",
    "                   headers={\"Accept\": \"application/json\",\"user-key\":\"f243e3020e13a74ac2b77c51dcb94a04\"},\n",
    "                  params={\"entity_id\":\"104\",\"entity_type\": \"subzone\",\"cuisines\":\"73\",\"category\":\"6\",\n",
    "                          \"sort\":\"rating\",\"order\":\"desc\"}).json()\n",
    "for rest in res['restaurants']:\n",
    "    print(rest['restaurant']['name'],rest['restaurant']['user_rating']['aggregate_rating'],rest['restaurant']['id'])"
   ]
  },
  {
   "cell_type": "code",
   "execution_count": 107,
   "metadata": {},
   "outputs": [
    {
     "name": "stdout",
     "output_type": "stream",
     "text": [
      "Ishika Tayal 5 I visited this place with my friends.  It was an amazing experience to be here. Food was really great. We ordered many things and were satisfied by their service. It's a worth visit place. Will surely visit again.\n",
      "Pant Shelly 5 We had to wait for our table but it was worth waiting. the staff is too polite, presentation is soo quirky their and it was a memorable experience. Must try. 😍💞 Food is lovely and affordable 😋😊\n",
      "Sourabh Rajput 5 My fav place 😍♥️, another outlet another amzing food experience , their shakes was always amzing tried , alfanso cocaine n ,black currant ,shakes was perfectly thick n tasty 😋, chicken wings was also amzing , nachos contain lots of cheese 😋, pasta in jar taste good , ambience n service was grt ♥️🤙,  well sanitized environment, want to visit again ♥️😋😍🤙😁\n",
      "Unofficialfoodies_ 5 I love this place because of there ambience and there way of presentation of food 🍴🍕🍔 , they serve all things in jar ,conical flask and so this make different from others and the most important taste of all dishes and beverages were awesome. Love there food 💕.\n",
      "Delhi Street Food 5 Yummy food and taste of food is very tasty. My fav outlet for shake and fries. Peri peri fries are my favorite with chocolate shake💋🥰. So tasty food and ambience was also good\n"
     ]
    }
   ],
   "source": [
    "# Fetch the latest review of the best-rated restaurant for ‘Mexican’ cuisine with Category type ‘Cafes’ present in Connaught Place using Zomato API.\n",
    "# Print the name of user ,user rating and review text.\n",
    "import requests\n",
    "import json\n",
    "from requests.auth import HTTPBasicAuth\n",
    "res = requests.get('https://developers.zomato.com/api/v2.1/reviews',\n",
    "                   headers={\"Accept\": \"application/json\",\"user-key\":\"f243e3020e13a74ac2b77c51dcb94a04\"},\n",
    "                  params={\"res_id\":\"18729557\"}).json()\n",
    "for rev in res['user_reviews']:\n",
    "    print(rev['review']['user']['name'],rev['review']['rating'],rev['review']['review_text'])"
   ]
  },
  {
   "cell_type": "code",
   "execution_count": 111,
   "metadata": {},
   "outputs": [
    {
     "name": "stdout",
     "output_type": "stream",
     "text": [
      "4.9\n",
      "2500\n",
      "Asian, Chinese, Thai, Japanese\n",
      "A-3, Select Citywalk, District Centre, Saket, New Delhi\n"
     ]
    }
   ],
   "source": [
    "# Fetch the details of \"Pa Pa Ya\" restaurant using Zomato API.\n",
    "# Print the user rating, the average cost for two, cuisines and address of \"Pa Pa Ya\" restaurant.\n",
    "import requests\n",
    "import json\n",
    "from requests.auth import HTTPBasicAuth\n",
    "res = requests.get('https://developers.zomato.com/api/v2.1/restaurant',\n",
    "                   headers={\"Accept\": \"application/json\",\"user-key\":\"f243e3020e13a74ac2b77c51dcb94a04\"},\n",
    "                  params={\"res_id\":\"18429148\"}).json()\n",
    "print(res['user_rating']['aggregate_rating'])\n",
    "print(res['average_cost_for_two'])\n",
    "print(res['cuisines'])\n",
    "print(res['location']['address'])"
   ]
  },
  {
   "cell_type": "code",
   "execution_count": 116,
   "metadata": {},
   "outputs": [
    {
     "name": "stdout",
     "output_type": "stream",
     "text": [
      "no\n"
     ]
    }
   ],
   "source": [
    "#Find out whether online table reservation is supported in \"Pa Pa Ya\" restaurant or not using Zomato API.\n",
    "# Print 'yes' if online table reservation is supported else 'no'\n",
    "import requests\n",
    "import json\n",
    "from requests.auth import HTTPBasicAuth\n",
    "res = requests.get('https://developers.zomato.com/api/v2.1/restaurant',\n",
    "                   headers={\"Accept\": \"application/json\",\"user-key\":\"f243e3020e13a74ac2b77c51dcb94a04\"},\n",
    "                  params={\"res_id\":\"18429148\"}).json()\n",
    "print('yes') if(res['is_book_form_web_view']==1) else print('no')"
   ]
  },
  {
   "cell_type": "code",
   "execution_count": 143,
   "metadata": {},
   "outputs": [
    {
     "name": "stdout",
     "output_type": "stream",
     "text": [
      "Latakshi Masrani 5 They say first experiences are always memorable. Mine was first try at Shushi and oh boy, they made sure everything was in place. A totally amazing experience! Courteous staff with beautiful ambient music!\n",
      "Vin Shahi 4 \n",
      "Kshitiz Mahajan 5 Vikram is a great host.   Thanks to him for serving us so well.  He was very kind and courteous .the service was fiest class\n",
      "Shashvat Sangwan 5 Had a nice time. The dumplings were great. Vikram was very helpful and we had a really nice time because of him! He gave us an excellent service, will remember it\n",
      "Dhruv Arora 5 It is always a celebration dinining at Pa Pa Ya. Manager  sh Prakash chandra ji greets everyone so nicely it feels to dine in again n again. We were served by Sanjeev and Pankaj ,  brilliant service and then my wife thanks the head chef Prince for making amazing broccoli and stirred fried vegetable noodles... overall 5stars for food and staff.  PS - we miss eating Baows please add in your menu soon.  Special thanks to Mr Kalra for our side.   Regards\n"
     ]
    }
   ],
   "source": [
    "# Fetch the latest review of \"Pa Pa Ya\" restaurant using Zomato API.\n",
    "# Print the name of the user, user rating and review text.\n",
    "import requests\n",
    "import json\n",
    "from requests.auth import HTTPBasicAuth\n",
    "res = requests.get('https://developers.zomato.com/api/v2.1/reviews',\n",
    "                   headers={\"Accept\": \"application/json\",\"user-key\":\"f243e3020e13a74ac2b77c51dcb94a04\"},\n",
    "                  params={\"res_id\":\"18429148\"}).json()\n",
    "for rev in res['user_reviews']:\n",
    "    print(rev['review']['user']['name'],rev['review']['rating'],rev['review']['review_text'])"
   ]
  },
  {
   "cell_type": "code",
   "execution_count": 120,
   "metadata": {},
   "outputs": [
    {
     "name": "stdout",
     "output_type": "stream",
     "text": [
      "193\n"
     ]
    }
   ],
   "source": [
    "# Fetch the cuisine_id of of cuisine ‘BBQ’ using Zomato API.\n",
    "# Print the cuisine_id\n",
    "import requests\n",
    "import json\n",
    "from requests.auth import HTTPBasicAuth\n",
    "res = requests.get('https://developers.zomato.com/api/v2.1/cuisines',\n",
    "                   headers={\"Accept\": \"application/json\",\"user-key\":\"f243e3020e13a74ac2b77c51dcb94a04\"},\n",
    "                  params={\"city_id\":\"6\"}).json()\n",
    "for key in res['cuisines']:\n",
    "    if(key['cuisine']['cuisine_name']=='BBQ'):\n",
    "        print(key['cuisine']['cuisine_id'])"
   ]
  },
  {
   "cell_type": "code",
   "execution_count": 150,
   "metadata": {},
   "outputs": [
    {
     "name": "stdout",
     "output_type": "stream",
     "text": [
      "Themis Barbecue House 4.3 18204820 Netaji Subhash Place\n",
      "Barbeque Nation 4.1 9561 Netaji Subhash Place\n",
      "Amazings Kitchen 0 19370424 Prashant Vihar\n",
      "Anytime Chicken 0 19520153 Shalimar Bagh\n",
      "Moet's Barbeque 0 19238917 Alipur\n",
      "UBQ by Barbeque Nation 3.4 18889760 Rohini\n",
      "Chicken Adda 0 19179179 Rohini\n",
      "7teen BBQ Bistro Bnq 3.9 18595610 Moti Nagar\n",
      "Pishori Chicken 0 19061375 Kirti Nagar\n",
      "The Rowdy Food 3.9 19501602 Tagore Garden\n"
     ]
    }
   ],
   "source": [
    "# Fetch the list of the top 10 restaurants serving cuisine ‘BBQ’ which are nearest to Coding Ninjas.\n",
    "# Print the restaurant name, user rating, restaurant id and locality in which restaurant is present.\n",
    "# https://developers.zomato.com/api/v2.1/search?entity_type=city&lat=28.697513&lon=77.140622&cuisines=193&sort=real_distance&order=asc\n",
    "import requests\n",
    "import json\n",
    "res = requests.get('https://developers.zomato.com/api/v2.1/search' , \n",
    "                        params = {'entity_type':'city', 'lat':28.697513 ,'lon':77.140622,'cuisines':'193','sort':'real_distance','order':'asc','count':'10'},\n",
    "                        headers = {'Accept' : 'application/json', 'user-key' : '96cc22fb6b98bb761abed801542a2729'}).json()\n",
    "# print(res)\n",
    "for rest in res['restaurants']:\n",
    "    print(rest['restaurant']['name'],rest['restaurant']['user_rating']['aggregate_rating'],rest['restaurant']['id']\n",
    "         ,rest['restaurant']['location']['locality'])"
   ]
  },
  {
   "cell_type": "code",
   "execution_count": 139,
   "metadata": {},
   "outputs": [
    {
     "name": "stdout",
     "output_type": "stream",
     "text": [
      "Aakriti Chandna 5 Had visited this place for a nice lunch buffet and thoroughly enjoyed everything from starters specially fish starter and salsa potatoes to main course to desserts... loved their dal makhani to the core... a messy dessert plate surely means a good time 😍... A must visit place ❤️\n",
      "Aradhya Sharma 4 The taste was really amazing 😍😍 I loved it and my family too I will visit again with my family it's really amazing\n",
      "Akshay( Not Just Food ) 4 Before this pandemic I visited a famous barbecue place that is themis Netaji Subhash Palace. It is a great place when indoor and outdoor seatings. A place with beautiful ambience and tasteful food.  They have a variety of vegetarian and nonvegetarian delicacies. We had vegetarian meal. And we loved it.  One must try.  A pocket friendly place 👍\n",
      "TastyTreats 5 Very decent place to visit with friends and family. Food tastes amazing and the staff is very friendly. The paneer tikka was my favorite. Service was great. The place is worth a try and you would love it.\n",
      "Aarushi Jain 5 The food was totally delicious. I love the desert most and this white chocolate cake was beyond perfect. The brownies were also very yum\n"
     ]
    }
   ],
   "source": [
    "# Fetch the latest review of the restaurant serving cuisine ‘BBQ’ which is most nearest to Coding ninjas?\n",
    "# Print the name of user ,user rating and review text.\n",
    "import requests\n",
    "import json\n",
    "from requests.auth import HTTPBasicAuth\n",
    "res = requests.get('https://developers.zomato.com/api/v2.1/reviews',\n",
    "                   headers={\"Accept\": \"application/json\",\"user-key\":\"f243e3020e13a74ac2b77c51dcb94a04\"},\n",
    "                  params={\"res_id\":\"18204820\"}).json()\n",
    "for rev in res['user_reviews']:\n",
    "    print(rev['review']['user']['name'],rev['review']['rating'],rev['review']['review_text'])"
   ]
  },
  {
   "cell_type": "code",
   "execution_count": 155,
   "metadata": {},
   "outputs": [
    {
     "name": "stdout",
     "output_type": "stream",
     "text": [
      "Indian Accent 4.9 2004 The Lodhi, Lodhi Road\n",
      "Cafe Lota 4.9 305525 Pragati Maidan\n",
      "Pa Pa Ya 4.9 18429148 Select Citywalk Mall, Saket\n",
      "The Big Chill 4.9 1614 Khan Market\n",
      "Kuremal Mohan Lal Kulfi Wale 4.9 303642 Chawri Bazar\n",
      "Dum-Pukht - ITC Maurya 4.9 2744 ITC Maurya, Chanakyapuri\n",
      "The Big Chill 4.9 8244 Khan Market\n",
      "Manhattan Bar & Brewery 4.8 303960 Global Foyer Mall, Golf Course Road\n",
      "Downtown - Diners & Living Beer Cafe 4.8 4959 Sector 29\n",
      "Cocktails & Dreams, Speakeasy 4.8 300716 Sector 15\n"
     ]
    }
   ],
   "source": [
    "# Experiment with the radius parameter that is present in ‘GET/search’. Fetch the list of top 10 best-restaurant present in a radius of 4 km of coding ninjas.\n",
    "# Print the restaurant name, user rating, restaurant id and locality in which restaurant is present.\n",
    "import requests\n",
    "res = requests.get('https://developers.zomato.com/api/v2.1/search' , \n",
    "                        params = {'lat':28.697513 ,'lon':77.140622,'radius':'4000','sort':'rating','order':'desc','count':'10'},\n",
    "                        headers = {'Accept' : 'application/json', 'user-key' : '96cc22fb6b98bb761abed801542a2729'}).json()\n",
    "# print(res)\n",
    "for rest in res['restaurants']:\n",
    "    print(rest['restaurant']['name'],rest['restaurant']['user_rating']['aggregate_rating'],rest['restaurant']['id']\n",
    "         ,rest['restaurant']['location']['locality'])"
   ]
  },
  {
   "cell_type": "code",
   "execution_count": null,
   "metadata": {},
   "outputs": [],
   "source": []
  }
 ],
 "metadata": {
  "kernelspec": {
   "display_name": "Python 3",
   "language": "python",
   "name": "python3"
  },
  "language_info": {
   "codemirror_mode": {
    "name": "ipython",
    "version": 3
   },
   "file_extension": ".py",
   "mimetype": "text/x-python",
   "name": "python",
   "nbconvert_exporter": "python",
   "pygments_lexer": "ipython3",
   "version": "3.8.3"
  }
 },
 "nbformat": 4,
 "nbformat_minor": 4
}
