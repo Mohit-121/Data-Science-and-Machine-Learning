{
 "cells": [
  {
   "cell_type": "code",
   "execution_count": 31,
   "metadata": {},
   "outputs": [],
   "source": [
    "#importing the libraries\n",
    "from selenium import webdriver\n",
    "from selenium.webdriver.common.keys import Keys\n",
    "from selenium.webdriver.support.ui import WebDriverWait\n",
    "from selenium.webdriver.support import expected_conditions as EC\n",
    "from selenium.webdriver.common.by import By\n",
    "from time import sleep\n",
    "import pandas as pd\n",
    "import matplotlib.pyplot as plt\n",
    "import datetime"
   ]
  },
  {
   "cell_type": "code",
   "execution_count": 32,
   "metadata": {},
   "outputs": [],
   "source": [
    "driver = webdriver.Chrome('C:/Users/mc277/Downloads/chromedriver.exe')"
   ]
  },
  {
   "cell_type": "code",
   "execution_count": 33,
   "metadata": {},
   "outputs": [],
   "source": [
    "driver.get('https://www.instagram.com/accounts/login/')"
   ]
  },
  {
   "cell_type": "code",
   "execution_count": 34,
   "metadata": {},
   "outputs": [],
   "source": [
    "suname = 'SAMPLE USERNAME'  # replacing the username with sample username\n",
    "spwd = 'SAMPLE PASSWORD'    # replacing the password with sample password\n",
    "uname = driver.find_element_by_name('username')\n",
    "pwd = driver.find_element_by_name('password')\n",
    "uname.send_keys(suname)\n",
    "pwd.send_keys(spwd+Keys.ENTER)\n",
    "wait = WebDriverWait(driver,10)\n",
    "driver.maximize_window()"
   ]
  },
  {
   "cell_type": "code",
   "execution_count": 5,
   "metadata": {},
   "outputs": [],
   "source": [
    "dont_save_details = driver.find_element_by_class_name('sqdOP')\n",
    "dont_save_details.click()"
   ]
  },
  {
   "cell_type": "code",
   "execution_count": 6,
   "metadata": {},
   "outputs": [],
   "source": [
    "not_now = driver.find_element_by_class_name('aOOlW')\n",
    "not_now.click()"
   ]
  },
  {
   "cell_type": "code",
   "execution_count": 7,
   "metadata": {},
   "outputs": [],
   "source": [
    "# Search in the search box\n",
    "def searchtxt(txt):\n",
    "    search = driver.find_element_by_class_name('XTCLo')\n",
    "    # clear the search bar and type food and press enter\n",
    "    search.clear()\n",
    "    search.send_keys(txt+Keys.ENTER)\n",
    "    wait = WebDriverWait(driver,10)\n",
    "    elts = wait.until(EC.presence_of_all_elements_located((By.XPATH,'//div[@class = \"fuqBx\"]//span[@class = \"Ap253\"]')))\n",
    "    return elts"
   ]
  },
  {
   "cell_type": "code",
   "execution_count": 8,
   "metadata": {},
   "outputs": [],
   "source": [
    "# method to open the post and find the posts created in last 3 days\n",
    "current_date = datetime.datetime.utcnow()\n",
    "def findPost():\n",
    "    c=0\n",
    "    while(True):\n",
    "        flag=0\n",
    "        posts = wait.until(EC.visibility_of_all_elements_located((By.XPATH,'//div[@class =\"_9AhH0\"]')))\n",
    "        for post in posts[c:]:\n",
    "            post.click()\n",
    "            date = wait.until(EC.presence_of_element_located((By.XPATH,'//time')))\n",
    "            raw_date = date.get_attribute('datetime').strip()[:-1]\n",
    "            post_date = datetime.datetime.strptime(raw_date, '%Y-%m-%dT%H:%M:%S.%f')\n",
    "            dat_dif = current_date - post_date\n",
    "            close = driver.find_elements_by_class_name('_8-yf5')[-1]\n",
    "            close.click()\n",
    "            if(dat_dif.days<=3):\n",
    "                c+=1\n",
    "            else:\n",
    "                flag=1\n",
    "                break\n",
    "        if(flag==1):\n",
    "            break\n",
    "        sleep(3)\n",
    "    return c"
   ]
  },
  {
   "cell_type": "code",
   "execution_count": 9,
   "metadata": {},
   "outputs": [],
   "source": [
    "# Names of the instagram handles after typing food\n",
    "elts = searchtxt('food')\n",
    "handles = []\n",
    "c=0\n",
    "for elt in elts:\n",
    "    handle = elt.get_attribute('innerHTML')\n",
    "    if '#' not in handle:\n",
    "        handles.append(handle)\n",
    "        c+=1\n",
    "    if(c==10):\n",
    "        break\n",
    "\n",
    "n_followers={}\n",
    "for handle in handles:\n",
    "    driver.get('https://www.instagram.com/'+handle)\n",
    "    fol_list = wait.until(EC.presence_of_element_located((By.PARTIAL_LINK_TEXT,'followers')))\n",
    "    n_fol = fol_list.find_element_by_tag_name('span').get_attribute('title')\n",
    "    n_followers[handle]=int(n_fol.strip().replace(',',''))"
   ]
  },
  {
   "cell_type": "markdown",
   "metadata": {},
   "source": [
    "1.1) From the list of instagram handles you obtained when you searched ‘food’ in previous project. Open the first 10 handles and find the top 5 which have the highest number of followers"
   ]
  },
  {
   "cell_type": "code",
   "execution_count": 10,
   "metadata": {},
   "outputs": [
    {
     "name": "stdout",
     "output_type": "stream",
     "text": [
      "Top 5 instagram handles found when searched food with highest number of followers:\n",
      "foodnetwork 10900945\n",
      "yourfoodlab 1508956\n",
      "foodie_incarnate 238880\n",
      "vismaifoodies 140498\n",
      "food 100694\n"
     ]
    }
   ],
   "source": [
    "sorted_fol = sorted(n_followers.items(), key = lambda x: -x[1])\n",
    "handle_list = []\n",
    "fol_list = []\n",
    "print('Top 5 instagram handles found when searched food with highest number of followers:')\n",
    "for i in sorted_fol[:5]:\n",
    "    handle_list.append(i[0])\n",
    "    fol_list.append(i[1])\n",
    "    print(i[0],i[1])"
   ]
  },
  {
   "cell_type": "markdown",
   "metadata": {},
   "source": [
    "1.2) Now Find the number of posts these handles have done in the previous 3 days."
   ]
  },
  {
   "cell_type": "code",
   "execution_count": 11,
   "metadata": {},
   "outputs": [
    {
     "name": "stdout",
     "output_type": "stream",
     "text": [
      "Number of posts made by top 5 handles in last 3 days:\n",
      "foodnetwork 37\n",
      "yourfoodlab 4\n",
      "foodie_incarnate 9\n",
      "vismaifoodies 2\n",
      "food 7\n"
     ]
    }
   ],
   "source": [
    "print('Number of posts made by top 5 handles in last 3 days:')\n",
    "n_post_list = []\n",
    "for i in range(5):\n",
    "    driver.get('https://www.instagram.com/'+handle_list[i])\n",
    "    n_post = findPost()\n",
    "    n_post_list.append(n_post)\n",
    "    print(handle_list[i],n_post_list[i])"
   ]
  },
  {
   "cell_type": "markdown",
   "metadata": {},
   "source": [
    "1.3) Depict this information using a suitable graph."
   ]
  },
  {
   "cell_type": "code",
   "execution_count": 12,
   "metadata": {},
   "outputs": [
    {
     "data": {
      "image/png": "[encoded data removed]",
      "text/plain": [
       "<Figure size 432x288 with 1 Axes>"
      ]
     },
     "metadata": {
      "needs_background": "light"
     },
     "output_type": "display_data"
    }
   ],
   "source": [
    "# Graph of how number of followers are influenced by number of posts\n",
    "plt.plot(n_post_list,fol_list)\n",
    "plt.scatter(n_post_list,fol_list,c='g')\n",
    "plt.xlabel('No. of Posts')\n",
    "plt.ylabel('No of Followers')\n",
    "plt.title('Posts Vs Followers')\n",
    "plt.show()"
   ]
  },
  {
   "cell_type": "markdown",
   "metadata": {},
   "source": [
    "2.1) Open the 5 handles you obtained in the last question, and scrape the content of the first 10 posts of each handle."
   ]
  },
  {
   "cell_type": "markdown",
   "metadata": {},
   "source": [
    "2.2) Prepare a list of all words used in all the scraped posts and calculate the frequency of each word."
   ]
  },
  {
   "cell_type": "code",
   "execution_count": 13,
   "metadata": {},
   "outputs": [],
   "source": [
    "word_dict = {}\n",
    "\n",
    "def filter_emojis(sentence):\n",
    "        return [word for word in sentence.split() if str(word.encode('unicode-escape'))[2] != '\\\\' ]\n",
    "\n",
    "def findWords():\n",
    "    elts = wait.until(EC.visibility_of_all_elements_located((By.XPATH,'//div[@class = \"C4VMK\"]/span')))\n",
    "    for elt in elts:\n",
    "        decode = elt.text\n",
    "        word_list = filter_emojis(decode)\n",
    "        for word in word_list:\n",
    "            word_dict[word] = word_dict.get(word,0)+1\n",
    "            \n",
    "def find_words_post():\n",
    "    posts = wait.until(EC.visibility_of_all_elements_located((By.XPATH,'//div[@class =\"_9AhH0\"]')))\n",
    "    for post in posts[:10]:\n",
    "        post.click()\n",
    "        findWords()\n",
    "        close = driver.find_elements_by_class_name('_8-yf5')[-1]\n",
    "        close.click()"
   ]
  },
  {
   "cell_type": "code",
   "execution_count": 20,
   "metadata": {},
   "outputs": [],
   "source": [
    "for i in range(5):\n",
    "    driver.get('https://www.instagram.com/'+handle_list[i])\n",
    "    find_words_post()\n",
    "word_dict = sorted(word_dict.items(), key = lambda x: -x[1])\n",
    "word_dict1 = {'Word':[],'Frequency':[]}\n",
    "for key,val in word_dict:\n",
    "    word_dict1['Word'].append(key)\n",
    "    word_dict1['Frequency'].append(val)"
   ]
  },
  {
   "cell_type": "markdown",
   "metadata": {},
   "source": [
    "2.3) Create a csv file with two columns : the word and its frequency"
   ]
  },
  {
   "cell_type": "code",
   "execution_count": 21,
   "metadata": {},
   "outputs": [],
   "source": [
    "# creating a dataframe from dictionary\n",
    "df = pd.DataFrame.from_dict(word_dict1)\n",
    "# converting dataframe to csv\n",
    "df.to_csv('word_freq.csv',index = False)"
   ]
  },
  {
   "cell_type": "markdown",
   "metadata": {},
   "source": [
    "2.4) Now, find the hashtags that were most popular among these bloggers"
   ]
  },
  {
   "cell_type": "code",
   "execution_count": 22,
   "metadata": {},
   "outputs": [
    {
     "name": "stdout",
     "output_type": "stream",
     "text": [
      "Top 5 most popular hashtags were:\n",
      "#food 18\n",
      "#foodie 16\n",
      "#foodporn 15\n",
      "#foodiesofinstagram 11\n",
      "#streetfood 10\n"
     ]
    }
   ],
   "source": [
    "print('Top 5 most popular hashtags were:')\n",
    "hashtags = []\n",
    "hashtag_freq = []\n",
    "for key in word_dict:\n",
    "    if('#' in key[0]):\n",
    "        hashtags.append(key[0])\n",
    "        hashtag_freq.append(key[1])\n",
    "        print(key[0],key[1])\n",
    "    if(len(hashtags)==5):\n",
    "        break"
   ]
  },
  {
   "cell_type": "markdown",
   "metadata": {},
   "source": [
    "2.5) Plot a Pie Chart of the top 5 hashtags obtained and the number of times they were used by these bloggers in the scraped posts."
   ]
  },
  {
   "cell_type": "code",
   "execution_count": 23,
   "metadata": {
    "scrolled": true
   },
   "outputs": [
    {
     "data": {
      "image/png": "[encoded data removed]",
      "text/plain": [
       "<Figure size 432x288 with 1 Axes>"
      ]
     },
     "metadata": {},
     "output_type": "display_data"
    }
   ],
   "source": [
    "def func(pct, allvals):\n",
    "    absolute = int(round(pct*sum(allvals)/100.))\n",
    "    return \"{:.2f}%\\n({:d} times)\".format(pct, absolute)\n",
    "\n",
    "explode = [0.1, 0, 0, 0, 0]\n",
    "plt.pie(hashtag_freq,labels = hashtags, \n",
    "        autopct = lambda pct: func(pct,hashtag_freq) ,explode = explode)\n",
    "plt.title('Most Popular Hashtags')\n",
    "plt.show()"
   ]
  },
  {
   "cell_type": "markdown",
   "metadata": {},
   "source": [
    "3.1) Find out the likes of the top 10 posts of the 5 handles obtained earlier."
   ]
  },
  {
   "cell_type": "code",
   "execution_count": 25,
   "metadata": {},
   "outputs": [],
   "source": [
    "# find likes of top 10 posts\n",
    "likes_dict = {}\n",
    "def find_likes(handle):\n",
    "    posts = wait.until(EC.visibility_of_all_elements_located((By.XPATH,'//div[@class =\"_9AhH0\"]')))\n",
    "    for post in posts[:10]:\n",
    "        post.click()\n",
    "        try:\n",
    "            wait.until(EC.visibility_of_element_located((By.CLASS_NAME,'EDfFK')))\n",
    "            elt = driver.find_element_by_class_name('Nm9Fw')\n",
    "            like_count = int(elt.text.replace('likes','').strip().replace(',',''))\n",
    "            likes_dict[handle].append(like_count)\n",
    "        except:\n",
    "            elt = driver.find_element_by_class_name('vcOH2')\n",
    "            elt.click()\n",
    "            like = driver.find_element_by_xpath('//div[@class = \"vJRqr\"]/span')\n",
    "            like_count = int(like.text.replace(',',''))\n",
    "            likes_dict[handle].append(like_count)\n",
    "            driver.find_element_by_class_name('_2dDPU').click()\n",
    "        close = driver.find_elements_by_class_name('_8-yf5')[-1]\n",
    "        close.click()"
   ]
  },
  {
   "cell_type": "code",
   "execution_count": 26,
   "metadata": {},
   "outputs": [],
   "source": [
    "for i in range(5):\n",
    "    likes_dict[handle_list[i]]=[]\n",
    "    driver.get('https://www.instagram.com/'+handle_list[i])\n",
    "    find_likes(handle_list[i])"
   ]
  },
  {
   "cell_type": "markdown",
   "metadata": {},
   "source": [
    "3.2) Calculate the average likes for a handle."
   ]
  },
  {
   "cell_type": "code",
   "execution_count": 27,
   "metadata": {},
   "outputs": [
    {
     "name": "stdout",
     "output_type": "stream",
     "text": [
      "Average Likes for top 5 handles:\n",
      "foodnetwork 9753\n",
      "yourfoodlab 32697\n",
      "foodie_incarnate 4102\n",
      "vismaifoodies 3606\n",
      "food 688\n"
     ]
    }
   ],
   "source": [
    "avg_likes_list = []\n",
    "print('Average Likes for top 5 handles:')\n",
    "for i in range(5):\n",
    "    handle = handle_list[i]\n",
    "    total_likes = sum(likes_dict[handle])\n",
    "    avg_likes = total_likes//10\n",
    "    avg_likes_list.append(avg_likes)\n",
    "    print(handle,avg_likes)"
   ]
  },
  {
   "cell_type": "markdown",
   "metadata": {},
   "source": [
    "3.3) Divide the average likes obtained from the number of followers of the handle to get the average followers:like ratio of each handle."
   ]
  },
  {
   "cell_type": "code",
   "execution_count": 28,
   "metadata": {},
   "outputs": [
    {
     "name": "stdout",
     "output_type": "stream",
     "text": [
      "Followers:Likes ratio of top 5 food handles:\n",
      "foodnetwork 1117\n",
      "yourfoodlab 46\n",
      "foodie_incarnate 58\n",
      "vismaifoodies 38\n",
      "food 146\n"
     ]
    }
   ],
   "source": [
    "print('Followers:Likes ratio of top 5 food handles:')\n",
    "follower_likes_ratio = []\n",
    "for i in range(5):\n",
    "    handle = handle_list[i]\n",
    "    n_follower = fol_list[i]\n",
    "    avg_likes = avg_likes_list[i]\n",
    "    ratio = n_follower//avg_likes\n",
    "    follower_likes_ratio.append(ratio)\n",
    "    print(handle,ratio)"
   ]
  },
  {
   "cell_type": "markdown",
   "metadata": {},
   "source": [
    "3.4) Create a bar graph to depict the above obtained information."
   ]
  },
  {
   "cell_type": "code",
   "execution_count": 29,
   "metadata": {},
   "outputs": [
    {
     "data": {
      "image/png": "[encoded data removed]",
      "text/plain": [
       "<Figure size 432x288 with 1 Axes>"
      ]
     },
     "metadata": {
      "needs_background": "light"
     },
     "output_type": "display_data"
    }
   ],
   "source": [
    "# bar graph to depict followers to like ratio\n",
    "plt.bar(handle_list,follower_likes_ratio)\n",
    "plt.xlabel('Name of instagram handle')\n",
    "plt.ylabel('Followers:Like ratio')\n",
    "plt.title('Followers:Like ratio of top 5 food handles')\n",
    "plt.xticks(rotation=40)\n",
    "plt.show()"
   ]
  }
 ],
 "metadata": {
  "kernelspec": {
   "display_name": "Python 3",
   "language": "python",
   "name": "python3"
  },
  "language_info": {
   "codemirror_mode": {
    "name": "ipython",
    "version": 3
   },
   "file_extension": ".py",
   "mimetype": "text/x-python",
   "name": "python",
   "nbconvert_exporter": "python",
   "pygments_lexer": "ipython3",
   "version": "3.8.3"
  }
 },
 "nbformat": 4,
 "nbformat_minor": 4
}
