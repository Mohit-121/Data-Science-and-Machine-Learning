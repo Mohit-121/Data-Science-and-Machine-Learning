{
 "cells": [
  {
   "cell_type": "code",
   "execution_count": 1,
   "metadata": {},
   "outputs": [],
   "source": [
    "import numpy as np\n",
    "import pandas as pd\n",
    "from sklearn.linear_model import LogisticRegression"
   ]
  },
  {
   "cell_type": "code",
   "execution_count": 2,
   "metadata": {},
   "outputs": [],
   "source": [
    "def preprocess(dataset_name):\n",
    "    dataset = pd.read_csv(dataset_name)\n",
    "    # Preprocessing steps\n",
    "    dataset['Age'] = dataset['Age'].fillna((dataset['Age'].min()))\n",
    "    dataset['Embarked'] = dataset['Embarked'].fillna(('S'))\n",
    "    dataset.drop('Cabin', inplace = True, axis = 1)\n",
    "    dataset.drop('Name', inplace = True, axis = 1)\n",
    "    dataset.drop('Ticket', inplace = True, axis = 1)\n",
    "\n",
    "    # Replacing the Sex column with 0 and 1\n",
    "    gender = {'male': 0,'female': 1} \n",
    "    dataset.Sex = [gender[item] for item in dataset.Sex] \n",
    "\n",
    "    # Replacing the Embarked column with 0,1,2\n",
    "    embarked = {'S': 0, 'C': 1, 'Q': 2}\n",
    "    dataset.Embarked = [embarked[item] for item in dataset.Embarked]\n",
    "    return dataset"
   ]
  },
  {
   "cell_type": "code",
   "execution_count": 3,
   "metadata": {},
   "outputs": [
    {
     "name": "stdout",
     "output_type": "stream",
     "text": [
      "Pclass      0\n",
      "Sex         0\n",
      "Age         0\n",
      "SibSp       0\n",
      "Parch       0\n",
      "Fare        0\n",
      "Embarked    0\n",
      "Survived    0\n",
      "dtype: int64\n"
     ]
    }
   ],
   "source": [
    "# get the training dataset and preprocess it\n",
    "training_set = '0000000000002429_training_titanic_x_y_train.csv'\n",
    "dataset = preprocess(training_set)\n",
    "print(dataset.isnull().sum())\n",
    "X_train = dataset.iloc[:,:-1]\n",
    "Y_train = dataset.iloc[:,-1]"
   ]
  },
  {
   "cell_type": "code",
   "execution_count": 4,
   "metadata": {},
   "outputs": [
    {
     "name": "stdout",
     "output_type": "stream",
     "text": [
      "0.7964071856287425\n"
     ]
    }
   ],
   "source": [
    "alg = LogisticRegression(C = 0.1, max_iter = 1000)\n",
    "alg.fit(X_train,Y_train)\n",
    "print(alg.score(X_train,Y_train))"
   ]
  },
  {
   "cell_type": "code",
   "execution_count": 5,
   "metadata": {},
   "outputs": [],
   "source": [
    "testing_set = '0000000000002429_test_titanic_x_test.csv'\n",
    "X_test = preprocess(testing_set)\n",
    "Y_test_pred = alg.predict(X_test)\n",
    "np.savetxt(\"Y_pred.csv\",Y_test_pred,delimiter = \",\")"
   ]
  }
 ],
 "metadata": {
  "kernelspec": {
   "display_name": "Python 3",
   "language": "python",
   "name": "python3"
  },
  "language_info": {
   "codemirror_mode": {
    "name": "ipython",
    "version": 3
   },
   "file_extension": ".py",
   "mimetype": "text/x-python",
   "name": "python",
   "nbconvert_exporter": "python",
   "pygments_lexer": "ipython3",
   "version": "3.8.3"
  }
 },
 "nbformat": 4,
 "nbformat_minor": 4
}
