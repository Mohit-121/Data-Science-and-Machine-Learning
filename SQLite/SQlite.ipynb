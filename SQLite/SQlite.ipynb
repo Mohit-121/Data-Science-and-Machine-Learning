{
 "cells": [
  {
   "cell_type": "code",
   "execution_count": 5,
   "metadata": {},
   "outputs": [],
   "source": [
    "import sqlite3  # importing sqlite3 to work with sqllite files\n",
    "\n",
    "db = sqlite3.connect('Employee.sqlite')"
   ]
  },
  {
   "cell_type": "code",
   "execution_count": 7,
   "metadata": {},
   "outputs": [],
   "source": [
    "cur = db.cursor()\n",
    "\n",
    "sql_query = 'Create table Employee_Detail (employee_id int primary key, name Text, age int, department Text, salary int);'\n",
    "cur.execute(sql_query)"
   ]
  },
  {
   "cell_type": "code",
   "execution_count": 9,
   "metadata": {},
   "outputs": [
    {
     "data": {
      "text/plain": [
       "<sqlite3.Cursor at 0x16ee9a98110>"
      ]
     },
     "execution_count": 9,
     "metadata": {},
     "output_type": "execute_result"
    }
   ],
   "source": [
    "sql_query = 'Insert into Employee_Detail values (100,\"Rishav\",25,\"Marketing\",50000),(101,\"Abhishek\",26,\"Operations\",60000), (102,\"Aman\",24,\"Human Resource\",75000);'\n",
    "cur.execute(sql_query)"
   ]
  },
  {
   "cell_type": "code",
   "execution_count": 10,
   "metadata": {},
   "outputs": [],
   "source": [
    "db.commit()  # commits the data updations"
   ]
  },
  {
   "cell_type": "code",
   "execution_count": 12,
   "metadata": {},
   "outputs": [],
   "source": [
    "cur.execute('delete from Employee_Detail where employee_id = 101;')\n",
    "db.commit()"
   ]
  },
  {
   "cell_type": "code",
   "execution_count": 13,
   "metadata": {},
   "outputs": [],
   "source": [
    "# passing parameters in a query\n",
    "c_id = 102\n",
    "cur.execute('delete from Employee_Detail where employee_id = ?',(c_id,))\n",
    "db.commit()"
   ]
  },
  {
   "cell_type": "code",
   "execution_count": 14,
   "metadata": {},
   "outputs": [],
   "source": [
    "# employee details\n",
    "employee_id=[101,102,103,104,105,106,107,108,109,110,111,112,113]\n",
    "name=['Aadarsh','Aarti','Siddharth','Aman','Amit','Shivansh','Vaibhav','Himanshu','Raman','Kunal','Adhira','Tanya']\n",
    "age=[25,27,25,24,30,26,23,26,25,26,29,24]\n",
    "department=['Marketing','Operations','Finance','Human Resource','Marketing','IT','Finance','IT','Operations','Marketing','Human Resource','Marketing']\n",
    "salary=[50000,60000,85000,75000,50000,90000,85000,90000,60000,50000,75000,50000]"
   ]
  },
  {
   "cell_type": "code",
   "execution_count": 24,
   "metadata": {},
   "outputs": [],
   "source": [
    "cur.execute('delete from Employee_Detail')\n",
    "db.commit()\n",
    "for i in range(len(name)):\n",
    "    cur.execute('Insert into Employee_Detail values (?,?,?,?,?)',(employee_id[i],name[i],age[i],department[i],salary[i]))\n",
    "db.commit()"
   ]
  },
  {
   "cell_type": "code",
   "execution_count": 29,
   "metadata": {},
   "outputs": [
    {
     "name": "stdout",
     "output_type": "stream",
     "text": [
      "[('Finance', 2), ('Human Resource', 2), ('IT', 2), ('Marketing', 4), ('Operations', 2)]\n"
     ]
    }
   ],
   "source": [
    "cur.execute('Select department,count(*) from Employee_Detail group by department')\n",
    "print(cur.fetchall())\n",
    "print('Finance', 2)\n",
    "print('Human Resource', 2)\n",
    "print('IT', 2)\n",
    "print('Marketing', 4)\n",
    "print('Operations', 2)"
   ]
  },
  {
   "cell_type": "code",
   "execution_count": null,
   "metadata": {},
   "outputs": [],
   "source": [
    "import sqlite3\n",
    "import pandas as pd\n",
    "db = sqlite3.connect('IMDB.sqlite')\n",
    "data1 = pd.read_sql_query('select * from imdb',db)\n",
    "data2 = pd.read_sql_query('select * from genre',db)\n",
    "data3 = pd.read_sql_query('select * from earning',db)\n",
    "print(data1.columns)\n",
    "print(data1.head())\n",
    "print()\n",
    "print(data2.head())\n",
    "print()\n",
    "print(data3.head())"
   ]
  }
 ],
 "metadata": {
  "kernelspec": {
   "display_name": "Python 3",
   "language": "python",
   "name": "python3"
  },
  "language_info": {
   "codemirror_mode": {
    "name": "ipython",
    "version": 3
   },
   "file_extension": ".py",
   "mimetype": "text/x-python",
   "name": "python",
   "nbconvert_exporter": "python",
   "pygments_lexer": "ipython3",
   "version": "3.8.3"
  }
 },
 "nbformat": 4,
 "nbformat_minor": 4
}
