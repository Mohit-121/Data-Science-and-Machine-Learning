{
 "cells": [
  {
   "cell_type": "code",
   "execution_count": 40,
   "metadata": {},
   "outputs": [],
   "source": [
    "import numpy as np\n",
    "import pandas as pd\n",
    "import matplotlib.pyplot as plt"
   ]
  },
  {
   "cell_type": "code",
   "execution_count": 21,
   "metadata": {},
   "outputs": [],
   "source": [
    "def generic_cost(X,Y,m,c):\n",
    "    M = len(X)\n",
    "    total_cost = 0\n",
    "    for i in range(M):\n",
    "        x = X[i,:]\n",
    "        y = Y[i]\n",
    "        total_cost += (1/M) * ((y - (m * x).sum() - c)**2)\n",
    "    return total_cost"
   ]
  },
  {
   "cell_type": "code",
   "execution_count": 64,
   "metadata": {},
   "outputs": [],
   "source": [
    "def score(Y_true,Y_pred):\n",
    "    u = ((Y_true - Y_pred)**2).sum()\n",
    "    v = ((Y_true - Y_true.mean())**2).sum()\n",
    "    return 1 - u/v"
   ]
  },
  {
   "cell_type": "code",
   "execution_count": 87,
   "metadata": {},
   "outputs": [],
   "source": [
    "def generic_step_gradient_descent(X,Y,learning_rate,m,c):\n",
    "    N = X.shape[1]\n",
    "    m_slope, c_slope = np.zeros(N), 0\n",
    "    M = len(X)\n",
    "    for i in range(M):\n",
    "        x = X[i,:]\n",
    "        y = Y[i]\n",
    "        m = m - learning_rate * (-2/M) * (y - (m*x).sum() - c)*x\n",
    "        c = c - learning_rate * (-2/M) * (y - (m*x).sum() - c)\n",
    "#         for j in range(N):\n",
    "# #             m_slope[j] += (-2/M) * (y - (m*x).sum() - c)*x[j]\n",
    "#             m[j] = m[j] - learning_rate *(-2/M) * (y - (m*x).sum() - c)*x[j]\n",
    "#         #c_slope += (-2/M) * (y - (m*x).sum() - c)\n",
    "#         c = c - learning_rate * (-2/M) * (y - (m*x).sum() - c)\n",
    "    new_m = m - learning_rate*m_slope\n",
    "    new_c = c - learning_rate*c_slope\n",
    "#     return new_m,new_c\n",
    "    return m,c"
   ]
  },
  {
   "cell_type": "code",
   "execution_count": 88,
   "metadata": {},
   "outputs": [],
   "source": [
    "# Generic Gradient Descent\n",
    "def generic_gradient_descent(X,Y,learning_rate,num_iterations):\n",
    "    N = X.shape[1]\n",
    "    m, c = np.zeros(N) , 0\n",
    "    for i in range(num_iterations):\n",
    "        m, c = generic_step_gradient_descent(X,Y,learning_rate,m,c)\n",
    "#         if(i>0):\n",
    "#             print(i,\"Cost: \", generic_cost(X,Y,m,c))\n",
    "    return m,c"
   ]
  },
  {
   "cell_type": "code",
   "execution_count": 261,
   "metadata": {},
   "outputs": [],
   "source": [
    "# adding all the 2d features columns and checking the score\n",
    "def add_feature(dataset):\n",
    "    df = pd.DataFrame(dataset)\n",
    "    df1 = df.copy()\n",
    "    l = dataset.shape[1]\n",
    "    c = l\n",
    "    for i in range(l):\n",
    "        for j in range(i,l):\n",
    "            df1[c] = df[i]*df[j]\n",
    "            c+=1\n",
    "    X2 = df1.values\n",
    "    return X2"
   ]
  },
  {
   "cell_type": "code",
   "execution_count": 144,
   "metadata": {},
   "outputs": [],
   "source": [
    "def run_generic():\n",
    "    # getting the training data\n",
    "    dataset = np.genfromtxt(\"0000000000002417_training_boston_x_y_train.csv\",delimiter = \",\")\n",
    "    X_train = np.array(dataset[:,:-1])\n",
    "    X_train = add_feature(X_train)\n",
    "    Y_train = np.array(dataset[:,-1])\n",
    "    \n",
    "    # applying feature scaling\n",
    "    from sklearn.preprocessing import StandardScaler\n",
    "    scaler = StandardScaler()\n",
    "    print(\"Shape\",X_train.shape)\n",
    "    scaler.fit(X_train)\n",
    "    X_train = scaler.transform(X_train)\n",
    "    \n",
    "    # getting the test data\n",
    "    X_test = np.genfromtxt(\"0000000000002417_test_boston_x_test.csv\",delimiter = \",\")\n",
    "    X_test = add_feature(X_test)\n",
    "    X_test = scaler.transform(X_test)\n",
    "    \n",
    "    # defining parameters and calling calling gradient descent function\n",
    "    learning_rate = 0.1\n",
    "    num_iterations = 36\n",
    "    m, c = generic_gradient_descent(X_train,Y_train,learning_rate,num_iterations)\n",
    "    \n",
    "    Y_train_pred = (m * X_train).sum(axis=1) + c\n",
    "    Y_test_pred = (m * X_test).sum(axis=1) + c\n",
    "    print(\"Score is: \",score(Y_train,Y_train_pred))\n",
    "    np.savetxt(\"Y_pred.csv\",Y_test_pred,delimiter = \",\",fmt='%f')"
   ]
  },
  {
   "cell_type": "code",
   "execution_count": 145,
   "metadata": {},
   "outputs": [
    {
     "name": "stdout",
     "output_type": "stream",
     "text": [
      "Shape (379, 104)\n",
      "1 Cost:  259.1380920974116\n",
      "2 Cost:  179.7825997302477\n",
      "3 Cost:  126.17376854357964\n",
      "4 Cost:  89.71765375248707\n",
      "5 Cost:  64.85174391557726\n",
      "6 Cost:  47.85079005729584\n",
      "7 Cost:  36.19783532810971\n",
      "8 Cost:  28.186746965891118\n",
      "9 Cost:  22.659015331154354\n",
      "10 Cost:  18.82706049715755\n",
      "11 Cost:  16.15496222808062\n",
      "12 Cost:  14.277723523824042\n",
      "13 Cost:  12.946527058537269\n",
      "14 Cost:  11.991576597851662\n",
      "15 Cost:  11.296856185437992\n",
      "16 Cost:  10.78297525936905\n",
      "17 Cost:  10.395503905797748\n",
      "18 Cost:  10.097037704491582\n",
      "19 Cost:  9.861797197035798\n",
      "20 Cost:  9.671950472478562\n",
      "21 Cost:  9.51510756872227\n",
      "22 Cost:  9.382612047378233\n",
      "23 Cost:  9.26837508400673\n",
      "24 Cost:  9.168078929905661\n",
      "25 Cost:  9.078631992965907\n",
      "26 Cost:  8.997795432815346\n",
      "27 Cost:  8.923926758413979\n",
      "28 Cost:  8.855803317909333\n",
      "29 Cost:  8.79250040527366\n",
      "30 Cost:  8.733306758977834\n",
      "31 Cost:  8.67766570621661\n",
      "32 Cost:  8.625133935292714\n",
      "33 Cost:  8.575352418268821\n",
      "34 Cost:  8.528025736282881\n",
      "35 Cost:  8.482907239589355\n",
      "Score is:  0.9035297008384771\n"
     ]
    }
   ],
   "source": [
    "run_generic()"
   ]
  },
  {
   "cell_type": "markdown",
   "metadata": {},
   "source": [
    "Generic_gradient_descent without loops (Quick approach)"
   ]
  },
  {
   "cell_type": "code",
   "execution_count": 234,
   "metadata": {},
   "outputs": [],
   "source": [
    "def cal_cost1(m,X,y):\n",
    "    M = len(y)\n",
    "    \n",
    "    predictions = X.dot(m)\n",
    "    cost = np.sum((1/M)*np.square(predictions-y))\n",
    "    return cost"
   ]
  },
  {
   "cell_type": "code",
   "execution_count": 251,
   "metadata": {},
   "outputs": [],
   "source": [
    "def gradient_descent1(X,y,m,learning_rate,iterations):\n",
    "    # No of rows\n",
    "    M = len(y)\n",
    "    # No of parameters\n",
    "    N = X.shape[1]\n",
    "    \n",
    "    # cost and m as it goes\n",
    "    cost_history = np.zeros(iterations)\n",
    "    m_history = np.zeros((iterations,N)) \n",
    "    for it in range(iterations):\n",
    "        \n",
    "        # prediction is mx\n",
    "        prediction = np.dot(X,m)\n",
    "        \n",
    "        m = m - (2/M) * learning_rate * (X.T.dot((prediction-y)))\n",
    "        m_history[it,:] = m.T\n",
    "        cost_history[it] = cal_cost1(m,X,y)\n",
    "    \n",
    "    return m,cost_history,m_history"
   ]
  },
  {
   "cell_type": "code",
   "execution_count": 282,
   "metadata": {},
   "outputs": [
    {
     "name": "stdout",
     "output_type": "stream",
     "text": [
      "(379, 105)\n"
     ]
    },
    {
     "data": {
      "image/png": "[encoded data removed]",
      "text/plain": [
       "<Figure size 864x576 with 1 Axes>"
      ]
     },
     "metadata": {},
     "output_type": "display_data"
    },
    {
     "name": "stdout",
     "output_type": "stream",
     "text": [
      "7.926401217131556\n",
      "0.9098584630134472\n",
      "(127, 105)\n"
     ]
    }
   ],
   "source": [
    "# getting the data\n",
    "dataset = np.genfromtxt(\"0000000000002417_training_boston_x_y_train.csv\",delimiter = \",\")\n",
    "X = np.array(dataset[:,:-1])\n",
    "X = add_feature(X)\n",
    "y = np.array(dataset[:,-1]).reshape(-1,1) # reshaping the y from (379,) to (379,1)\n",
    "\n",
    "\n",
    "# defining parameters and calling calling gradient descent function\n",
    "learning_rate = 0.01343\n",
    "num_iterations = 1000\n",
    "# initializing m's with some random values and +1 is to define c along with m too.\n",
    "m_init = np.zeros((X.shape[1]+1,1))\n",
    "\n",
    "# adding a one's to the end to make room for intercept where value of x is 1\n",
    "X_b = np.c_[X , np.ones((len(X),1))]\n",
    "print(X_b.shape)\n",
    "\n",
    "m, cost_history, m_history  = gradient_descent1(X_b,y,m_init,learning_rate,num_iterations)\n",
    "\n",
    "\n",
    "plt.style.use(['ggplot'])\n",
    "\n",
    "fig,ax = plt.subplots(figsize=(12,8))\n",
    "\n",
    "ax.set_ylabel('Cost')\n",
    "ax.set_xlabel('Iterations')\n",
    "_=ax.plot(range(num_iterations),cost_history,'b.')\n",
    "plt.show()\n",
    "\n",
    "print(cost_history[-1])\n",
    "\n",
    "print(score(y,np.dot(X_b,m)))\n",
    "\n",
    "X_test = np.genfromtxt(\"0000000000002417_test_boston_x_test.csv\",delimiter = \",\")\n",
    "X_test = add_feature(X_test)\n",
    "X_test = np.c_[X_test, np.ones((len(X_test), 1))]\n",
    "print(X_test.shape)\n",
    "np.savetxt(\"Y_pred3.csv\",np.dot(X_test,m),delimiter = \",\",fmt='%f')"
   ]
  }
 ],
 "metadata": {
  "kernelspec": {
   "display_name": "Python 3",
   "language": "python",
   "name": "python3"
  },
  "language_info": {
   "codemirror_mode": {
    "name": "ipython",
    "version": 3
   },
   "file_extension": ".py",
   "mimetype": "text/x-python",
   "name": "python",
   "nbconvert_exporter": "python",
   "pygments_lexer": "ipython3",
   "version": "3.8.3"
  }
 },
 "nbformat": 4,
 "nbformat_minor": 4
}
