{
 "cells": [
  {
   "cell_type": "code",
   "execution_count": 163,
   "metadata": {},
   "outputs": [],
   "source": [
    "# importing the libraries\n",
    "import numpy as np\n",
    "import pandas as pd\n",
    "import os\n",
    "import matplotlib.pyplot as plt\n",
    "from nltk.corpus import stopwords\n",
    "from sklearn.model_selection import train_test_split\n",
    "from sklearn.naive_bayes import MultinomialNB\n",
    "from sklearn.metrics import confusion_matrix,classification_report"
   ]
  },
  {
   "cell_type": "code",
   "execution_count": 5,
   "metadata": {},
   "outputs": [
    {
     "ename": "AttributeError",
     "evalue": "'datetime.timedelta' object has no attribute 'minute'",
     "output_type": "error",
     "traceback": [
      "\u001b[1;31m---------------------------------------------------------------------------\u001b[0m",
      "\u001b[1;31mAttributeError\u001b[0m                            Traceback (most recent call last)",
      "\u001b[1;32m<ipython-input-5-153f61659df4>\u001b[0m in \u001b[0;36m<module>\u001b[1;34m\u001b[0m\n\u001b[0;32m      6\u001b[0m \u001b[0md2\u001b[0m \u001b[1;33m=\u001b[0m \u001b[0mdatetime\u001b[0m\u001b[1;33m.\u001b[0m\u001b[0mnow\u001b[0m\u001b[1;33m(\u001b[0m\u001b[1;33m)\u001b[0m\u001b[1;33m\u001b[0m\u001b[1;33m\u001b[0m\u001b[0m\n\u001b[0;32m      7\u001b[0m \u001b[0mdif\u001b[0m \u001b[1;33m=\u001b[0m \u001b[0md2\u001b[0m \u001b[1;33m-\u001b[0m \u001b[0md1\u001b[0m\u001b[1;33m\u001b[0m\u001b[1;33m\u001b[0m\u001b[0m\n\u001b[1;32m----> 8\u001b[1;33m \u001b[0mprint\u001b[0m\u001b[1;33m(\u001b[0m\u001b[0mdif\u001b[0m\u001b[1;33m.\u001b[0m\u001b[0mminute\u001b[0m\u001b[1;33m)\u001b[0m\u001b[1;33m\u001b[0m\u001b[1;33m\u001b[0m\u001b[0m\n\u001b[0m",
      "\u001b[1;31mAttributeError\u001b[0m: 'datetime.timedelta' object has no attribute 'minute'"
     ]
    }
   ],
   "source": [
    "dict_global = {}\n",
    "from time import sleep\n",
    "from datetime import datetime\n",
    "d1 = datetime.now()\n",
    "sleep(2)\n",
    "d2 = datetime.now()\n",
    "dif = d2 - d1\n",
    "print(dif.minute)"
   ]
  },
  {
   "cell_type": "code",
   "execution_count": 170,
   "metadata": {},
   "outputs": [],
   "source": [
    "def preprocess_add_dict(file, word_freq, add_feat):\n",
    "    '''\n",
    "        preprocessing all the given file by removing irrelevant \n",
    "        words and information\n",
    "        case 1: if add_feat we add the word freq of that particular document\n",
    "        case 2: else we build the dictionary of word(word_freq in this case)\n",
    "    '''\n",
    "    stop_words = set(stopwords.words('english'))\n",
    "    \n",
    "    l = []\n",
    "    dict_features = {}\n",
    "    if(add_feat == True):\n",
    "        idx = 0\n",
    "        for word in word_freq.keys():\n",
    "            dict_features[word] = idx\n",
    "            idx+=1\n",
    "            l.append(0)\n",
    "    \n",
    "    for each in file:\n",
    "        if(each!='\\n' and not ':' in each and not '---' in each):\n",
    "            striped = each.strip()\n",
    "            line = [e.lower() for e in striped.split() if e.isalpha()]\n",
    "            if(len(line)!=0):\n",
    "                for wor in line:\n",
    "                    word = wor.strip()\n",
    "                    if(word not in stop_words and len(word)>2):\n",
    "                        if(add_feat == False):\n",
    "                            word_freq[word] = word_freq.get(word,0)+1\n",
    "                        else:\n",
    "                            if(word in dict_features.keys()):\n",
    "                                l[dict_features[word]]+=1\n",
    "    return np.array(l),word_freq"
   ]
  },
  {
   "cell_type": "code",
   "execution_count": 171,
   "metadata": {},
   "outputs": [],
   "source": [
    "def create_feature_array(files, word_freq):\n",
    "    '''\n",
    "        returns the features created using the words as the features and \n",
    "        its freq for a document as it's value and corresponding output\n",
    "    '''\n",
    "    X, Y = [],[]\n",
    "    for file in files:\n",
    "        c_file = open(file)\n",
    "        l = preprocess_add_dict(c_file,word_freq,True)[0]\n",
    "        X.append(l)\n",
    "        directory = file.split('/')[1]\n",
    "        Y.append(directory)\n",
    "        c_file.close()\n",
    "    return np.array(X),np.array(Y)"
   ]
  },
  {
   "cell_type": "code",
   "execution_count": 166,
   "metadata": {},
   "outputs": [],
   "source": [
    "def draw_graph(word_freq):\n",
    "    freq=np.array(list(word_freq.values()))\n",
    "    words=np.array(list(word_freq.keys()))\n",
    "    freq = np.sort(freq)[::-1]\n",
    "    l, h  = 1000, 2000\n",
    "    plt.figure(figsize = (20,7))\n",
    "    plt.axis([l,h,0,500])\n",
    "    plt.xticks(np.arange(l,h, 50), rotation=45)\n",
    "    plt.plot(np.arange(len(freq))[l:h], freq[l:h])\n",
    "    plt.show()"
   ]
  },
  {
   "cell_type": "code",
   "execution_count": 214,
   "metadata": {},
   "outputs": [],
   "source": [
    "def preprocess_files(files):\n",
    "    '''\n",
    "        returns the word_freq dictionary after selecting top k(~= 5000) in this case\n",
    "    '''\n",
    "    word_freq = {}\n",
    "    for file in files:\n",
    "        c_file = open(file,'r')\n",
    "        word_freq = preprocess_add_dict(c_file,word_freq,False)[1]\n",
    "        c_file.close()\n",
    "        \n",
    "    #draw_graph(word_freq)\n",
    "    global dict_global\n",
    "    dict_global = word_freq.copy()\n",
    "        \n",
    "    words = list(word_freq.keys())\n",
    "    print(len(words))\n",
    "    for word in words:\n",
    "        if(word_freq[word]<200 or word_freq[word]>10000):\n",
    "            word_freq.pop(word)\n",
    "    print(len(word_freq.keys()))\n",
    "    return word_freq"
   ]
  },
  {
   "cell_type": "code",
   "execution_count": 215,
   "metadata": {},
   "outputs": [],
   "source": [
    "def fetch_data(folder_name):\n",
    "    '''\n",
    "        fetch the X and Y from the given folder\n",
    "    '''\n",
    "    dirs = os.listdir(folder_name)\n",
    "    files = []\n",
    "    for i in dirs:\n",
    "        folder = os.listdir(folder_name+'/'+i)\n",
    "        for file in folder:\n",
    "            files.append(folder_name+'/'+i+'/'+file)\n",
    "    \n",
    "    word_freq = preprocess_files(files)\n",
    "    \n",
    "    X, Y = create_feature_array(files,word_freq)\n",
    "    \n",
    "    return X,Y,list(word_freq.keys())"
   ]
  },
  {
   "cell_type": "code",
   "execution_count": 216,
   "metadata": {},
   "outputs": [
    {
     "name": "stdout",
     "output_type": "stream",
     "text": [
      "63524\n",
      "1573\n",
      "(19997, 1573) (19997,)\n"
     ]
    }
   ],
   "source": [
    "# Creating the X and Y along with features\n",
    "X, Y, features = fetch_data('20_newsgroups')\n",
    "print(X.shape, Y.shape)"
   ]
  },
  {
   "cell_type": "code",
   "execution_count": 162,
   "metadata": {},
   "outputs": [
    {
     "data": {
      "image/png": "[encoded data removed]",
      "text/plain": [
       "<Figure size 1440x504 with 1 Axes>"
      ]
     },
     "metadata": {
      "needs_background": "light"
     },
     "output_type": "display_data"
    }
   ],
   "source": [
    "draw_graph(dict_global)"
   ]
  },
  {
   "cell_type": "code",
   "execution_count": 217,
   "metadata": {},
   "outputs": [
    {
     "name": "stdout",
     "output_type": "stream",
     "text": [
      "(5000, 1573)\n"
     ]
    }
   ],
   "source": [
    "X_train, X_test, Y_train, Y_test = train_test_split(X,Y,random_state = 1)\n",
    "print(X_test.shape)"
   ]
  },
  {
   "cell_type": "code",
   "execution_count": 219,
   "metadata": {},
   "outputs": [
    {
     "name": "stdout",
     "output_type": "stream",
     "text": [
      "                          precision    recall  f1-score   support\n",
      "\n",
      "             alt.atheism       0.51      0.60      0.55       261\n",
      "           comp.graphics       0.46      0.54      0.50       248\n",
      " comp.os.ms-windows.misc       0.57      0.65      0.61       253\n",
      "comp.sys.ibm.pc.hardware       0.59      0.53      0.56       260\n",
      "   comp.sys.mac.hardware       0.63      0.58      0.60       266\n",
      "          comp.windows.x       0.73      0.59      0.65       265\n",
      "            misc.forsale       0.72      0.69      0.70       252\n",
      "               rec.autos       0.58      0.69      0.63       223\n",
      "         rec.motorcycles       0.72      0.76      0.74       293\n",
      "      rec.sport.baseball       0.67      0.73      0.70       245\n",
      "        rec.sport.hockey       0.76      0.74      0.75       247\n",
      "               sci.crypt       0.83      0.75      0.79       248\n",
      "         sci.electronics       0.55      0.62      0.58       239\n",
      "                 sci.med       0.73      0.72      0.72       236\n",
      "               sci.space       0.78      0.70      0.74       238\n",
      "  soc.religion.christian       0.59      0.73      0.65       233\n",
      "      talk.politics.guns       0.63      0.71      0.67       255\n",
      "   talk.politics.mideast       0.86      0.75      0.80       258\n",
      "      talk.politics.misc       0.53      0.55      0.54       228\n",
      "      talk.religion.misc       0.42      0.21      0.28       252\n",
      "\n",
      "                accuracy                           0.64      5000\n",
      "               macro avg       0.64      0.64      0.64      5000\n",
      "            weighted avg       0.64      0.64      0.64      5000\n",
      "\n",
      "[[156   3   0   0   1   1   0   4   7   5   3   4   4   4   2  28   8   5\n",
      "    8  18]\n",
      " [  5 135  22  15   9  17   2   6   3   0   2   6  12   7   4   0   1   1\n",
      "    1   0]\n",
      " [  0  17 165  25   6  14   5   9   2   0   0   2   4   1   1   0   1   0\n",
      "    0   1]\n",
      " [  1  11  29 137  29   5  12   5   3   0   3   4  13   6   0   0   0   0\n",
      "    0   2]\n",
      " [  0   9  21  19 154   5  15   8   1   2   1   5  16   6   2   1   1   0\n",
      "    0   0]\n",
      " [  0  41  30   5   3 157   5   6   1   1   1   1   4   5   0   0   1   1\n",
      "    1   2]\n",
      " [  0  12   2  11   9   2 174  10   5   1   5   0   8   1   5   2   1   0\n",
      "    2   2]\n",
      " [  2   4   2   2   4   0   7 153  19   4   0   0  15   1   1   4   3   1\n",
      "    1   0]\n",
      " [  2   2   0   1   1   2   5  18 223   8   4   0   9   1   2   4   5   0\n",
      "    5   1]\n",
      " [  3   4   1   0   2   2   3   5   5 180  25   2   5   1   2   2   1   1\n",
      "    0   1]\n",
      " [  2   2   1   0   1   0   3   4   5  35 184   0   0   1   3   2   1   0\n",
      "    1   2]\n",
      " [  1  13   2   0   6   2   0   1   2   2   1 187   9   2   3   1   6   0\n",
      "    9   1]\n",
      " [  2  12   6  15  16   3   6  13   6   0   0   2 147   3   5   0   0   0\n",
      "    1   2]\n",
      " [  8  10   2   0   1   1   0   6  10   5   1   0   9 170   4   3   1   1\n",
      "    1   3]\n",
      " [  5  14   2   1   1   2   0   6   5   3   3   1   7   4 166   4   0   1\n",
      "    8   5]\n",
      " [ 25   2   1   1   1   0   1   1   1   6   2   0   0   5   1 169   4   1\n",
      "    2  10]\n",
      " [  0   1   0   0   2   2   3   2   4   2   0   4   1   3   2   2 182   4\n",
      "   32   9]\n",
      " [  8   1   0   0   0   0   1   5   3   5   1   0   1   3   2   8   3 193\n",
      "   20   4]\n",
      " [  8   1   1   1   0   0   0   1   2   4   2   4   0   4   4   8  42  12\n",
      "  125   9]\n",
      " [ 75   2   1   0   0   0   1   3   2   4   3   3   2   5   3  48  26   4\n",
      "   18  52]]\n",
      "0.6418\n"
     ]
    }
   ],
   "source": [
    "# Implementation using inbuilt Multinomial NB\n",
    "clf = MultinomialNB()\n",
    "clf.fit(X_train,Y_train)\n",
    "Y_pred = clf.predict(X_test)\n",
    "print(classification_report(Y_test,Y_pred))\n",
    "print(confusion_matrix(Y_test,Y_pred))\n",
    "print(clf.score(X_test,Y_test))"
   ]
  },
  {
   "cell_type": "code",
   "execution_count": 207,
   "metadata": {},
   "outputs": [],
   "source": [
    "def fit(X_train, Y_train):\n",
    "    result = {}\n",
    "    classes = set(Y_train)\n",
    "    result[\"total_data\"] = len(Y_train)\n",
    "    for current_class in classes:\n",
    "        current_class_rows = (Y_train == current_class)\n",
    "        X_train_current = X_train[current_class_rows]\n",
    "        Y_train_current = Y_train[current_class_rows]\n",
    "        num_features = X_train.shape[1]\n",
    "        result[current_class] = {}\n",
    "        result[current_class][\"total_data\"] = len(Y_train_current)\n",
    "        word_count = 0\n",
    "        for j in range(num_features):\n",
    "            result[current_class][j] = X_train_current[:,j].sum()\n",
    "            word_count += result[current_class][j]\n",
    "        result[current_class][\"word_count\"] = word_count\n",
    "    \n",
    "    return result   "
   ]
  },
  {
   "cell_type": "code",
   "execution_count": 208,
   "metadata": {},
   "outputs": [],
   "source": [
    "def probability(dictionary, x, current_class):\n",
    "    output = np.log(dictionary[current_class]['total_data']) - np.log(dictionary['total_data'])\n",
    "    num_features = len(dictionary[current_class].keys()) - 2\n",
    "    for j in range(num_features):\n",
    "        if(x[j]!=0):\n",
    "            count_current_class_wj = dictionary[current_class][j] + 1\n",
    "            count_current_class_words = dictionary[current_class]['word_count'] + num_features\n",
    "            current_wj_probability = np.log(count_current_class_wj) - np.log(count_current_class_words)\n",
    "            output += current_wj_probability\n",
    "            global c11\n",
    "            c11 += 1\n",
    "    return output"
   ]
  },
  {
   "cell_type": "code",
   "execution_count": 209,
   "metadata": {},
   "outputs": [],
   "source": [
    "def predictSinglePoint(dictionary, x):\n",
    "    classes = dictionary.keys()\n",
    "    best_p, best_class = -1001,-1\n",
    "    first_run = True\n",
    "    for current_class in classes:\n",
    "        if(current_class == 'total_data'):\n",
    "            continue\n",
    "        p_current_class = probability(dictionary, x, current_class)\n",
    "        if(first_run or p_current_class > best_p):\n",
    "            best_p = p_current_class\n",
    "            best_class = current_class\n",
    "        first_run = False\n",
    "        global c13\n",
    "        c13 += 1\n",
    "    return best_class"
   ]
  },
  {
   "cell_type": "code",
   "execution_count": 210,
   "metadata": {},
   "outputs": [],
   "source": [
    "def predict(dictionary, X_test):\n",
    "    y_pred = []\n",
    "    for x in X_test:\n",
    "        x_class = predictSinglePoint(dictionary, x)\n",
    "        y_pred.append(x_class)\n",
    "        global c12\n",
    "        c12 += 1\n",
    "    return y_pred"
   ]
  },
  {
   "cell_type": "code",
   "execution_count": 211,
   "metadata": {},
   "outputs": [],
   "source": [
    "dictionary = fit(X_train,Y_train)\n",
    "#print(dictionary.keys())\n",
    "c11 = 0\n",
    "c12 = 0\n",
    "c13 = 0"
   ]
  },
  {
   "cell_type": "code",
   "execution_count": 213,
   "metadata": {},
   "outputs": [
    {
     "name": "stdout",
     "output_type": "stream",
     "text": [
      "3153360\n",
      "5000\n",
      "100000\n"
     ]
    }
   ],
   "source": [
    "Y_pred = predict(dictionary,X_test)\n",
    "print(c11)\n",
    "print(c12)\n",
    "print(c13)"
   ]
  },
  {
   "cell_type": "code",
   "execution_count": 212,
   "metadata": {},
   "outputs": [
    {
     "name": "stdout",
     "output_type": "stream",
     "text": [
      "                          precision    recall  f1-score   support\n",
      "\n",
      "             alt.atheism       0.52      0.59      0.55       261\n",
      "           comp.graphics       0.46      0.54      0.50       248\n",
      " comp.os.ms-windows.misc       0.57      0.63      0.60       253\n",
      "comp.sys.ibm.pc.hardware       0.62      0.54      0.58       260\n",
      "   comp.sys.mac.hardware       0.65      0.58      0.62       266\n",
      "          comp.windows.x       0.72      0.58      0.65       265\n",
      "            misc.forsale       0.68      0.69      0.68       252\n",
      "               rec.autos       0.57      0.67      0.62       223\n",
      "         rec.motorcycles       0.74      0.76      0.75       293\n",
      "      rec.sport.baseball       0.69      0.73      0.71       245\n",
      "        rec.sport.hockey       0.75      0.74      0.75       247\n",
      "               sci.crypt       0.80      0.75      0.77       248\n",
      "         sci.electronics       0.57      0.61      0.59       239\n",
      "                 sci.med       0.72      0.72      0.72       236\n",
      "               sci.space       0.79      0.71      0.75       238\n",
      "  soc.religion.christian       0.57      0.73      0.64       233\n",
      "      talk.politics.guns       0.62      0.71      0.66       255\n",
      "   talk.politics.mideast       0.83      0.74      0.78       258\n",
      "      talk.politics.misc       0.52      0.54      0.53       228\n",
      "      talk.religion.misc       0.40      0.21      0.28       252\n",
      "\n",
      "                accuracy                           0.64      5000\n",
      "               macro avg       0.64      0.64      0.64      5000\n",
      "            weighted avg       0.64      0.64      0.64      5000\n",
      "\n",
      "[[155   2   0   0   2   1   1   2   6   4   3   4   4   4   2  28   8   7\n",
      "    6  22]\n",
      " [  4 135  22  11  10  14   5   7   2   0   3   8  12   7   6   0   0   1\n",
      "    1   0]\n",
      " [  0  17 159  24   7  17   8   9   0   0   0   2   3   2   1   0   0   2\n",
      "    1   1]\n",
      " [  2  11  30 141  26   4  12   6   2   0   3   4  12   5   0   0   0   0\n",
      "    0   2]\n",
      " [  0  10  20  18 155   5  16   8   1   1   1   5  16   6   2   1   1   0\n",
      "    0   0]\n",
      " [  0  43  27   5   3 155   6   6   0   1   1   1   5   7   0   0   1   1\n",
      "    1   2]\n",
      " [  0  10   2  12   8   2 175  12   5   1   6   0   5   1   5   1   1   1\n",
      "    3   2]\n",
      " [  1   4   2   2   4   1   7 150  20   5   0   0  14   1   1   4   4   1\n",
      "    1   1]\n",
      " [  2   1   0   1   0   2   6  17 224   6   5   0   9   1   2   5   5   1\n",
      "    4   2]\n",
      " [  2   5   1   0   0   2   3   5   4 180  25   2   5   1   1   4   1   2\n",
      "    1   1]\n",
      " [  1   3   1   0   0   0   4   3   4  33 184   0   0   1   3   4   2   0\n",
      "    2   2]\n",
      " [  2  10   2   0   4   2   1   1   2   0   1 186   9   3   2   4   8   0\n",
      "   10   1]\n",
      " [  2  14   7  11  14   3   7  11   6   2   0   6 145   3   4   0   1   0\n",
      "    1   2]\n",
      " [ 10   8   2   0   0   1   1   7  10   5   1   1   7 170   2   2   1   1\n",
      "    3   4]\n",
      " [  3  15   3   1   2   2   0   5   3   4   3   1   6   3 169   5   0   1\n",
      "    7   5]\n",
      " [ 25   2   0   0   1   0   1   1   1   6   3   0   1   5   1 170   4   1\n",
      "    2   9]\n",
      " [  0   1   0   0   2   2   3   2   4   2   0   4   1   3   2   2 180   5\n",
      "   33   9]\n",
      " [  9   1   0   0   0   1   2   6   2   3   1   0   0   2   2   9   4 191\n",
      "   21   4]\n",
      " [  6   1   1   0   0   0   0   1   5   5   1   4   0   5   4  10  40  12\n",
      "  124   9]\n",
      " [ 74   2   1   0   0   0   1   2   3   4   3   4   0   5   5  48  28   2\n",
      "   17  53]]\n"
     ]
    }
   ],
   "source": [
    "print(classification_report(Y_test,Y_pred))\n",
    "print(confusion_matrix(Y_test,Y_pred))"
   ]
  },
  {
   "cell_type": "code",
   "execution_count": null,
   "metadata": {},
   "outputs": [],
   "source": []
  }
 ],
 "metadata": {
  "kernelspec": {
   "display_name": "Python 3",
   "language": "python",
   "name": "python3"
  },
  "language_info": {
   "codemirror_mode": {
    "name": "ipython",
    "version": 3
   },
   "file_extension": ".py",
   "mimetype": "text/x-python",
   "name": "python",
   "nbconvert_exporter": "python",
   "pygments_lexer": "ipython3",
   "version": "3.8.3"
  }
 },
 "nbformat": 4,
 "nbformat_minor": 4
}
