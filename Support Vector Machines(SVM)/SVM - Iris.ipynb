{
 "cells": [
  {
   "cell_type": "code",
   "execution_count": 10,
   "metadata": {},
   "outputs": [],
   "source": [
    "import numpy as np\n",
    "from sklearn import svm, datasets, set_config\n",
    "from sklearn.model_selection import train_test_split\n",
    "import matplotlib.pyplot as plt"
   ]
  },
  {
   "cell_type": "code",
   "execution_count": 16,
   "metadata": {},
   "outputs": [],
   "source": [
    "iris = datasets.load_iris()\n",
    "X = iris.data[:,0:2]\n",
    "Y = iris.target"
   ]
  },
  {
   "cell_type": "code",
   "execution_count": 17,
   "metadata": {},
   "outputs": [],
   "source": [
    "X_train, X_test, Y_train, Y_test = train_test_split(X,Y)"
   ]
  },
  {
   "cell_type": "code",
   "execution_count": 42,
   "metadata": {},
   "outputs": [
    {
     "data": {
      "text/plain": [
       "SVC(C=1.0, break_ties=False, cache_size=200, class_weight=None, coef0=0.0,\n",
       "    decision_function_shape='ovr', degree=3, gamma='scale', kernel='linear',\n",
       "    max_iter=-1, probability=False, random_state=None, shrinking=True,\n",
       "    tol=0.001, verbose=False)"
      ]
     },
     "execution_count": 42,
     "metadata": {},
     "output_type": "execute_result"
    }
   ],
   "source": [
    "set_config(print_changed_only=False)\n",
    "clf = svm.SVC(kernel = 'linear')\n",
    "clf.fit(X_train,Y_train)"
   ]
  },
  {
   "cell_type": "code",
   "execution_count": 43,
   "metadata": {},
   "outputs": [
    {
     "data": {
      "text/plain": [
       "0.8157894736842105"
      ]
     },
     "execution_count": 43,
     "metadata": {},
     "output_type": "execute_result"
    }
   ],
   "source": [
    "clf.score(X_test,Y_test)"
   ]
  },
  {
   "cell_type": "code",
   "execution_count": 44,
   "metadata": {},
   "outputs": [],
   "source": [
    "def makegrid(x1, x2, h = 0.02):\n",
    "    x1_min, x1_max = x1.min() - 1, x1.max() + 1\n",
    "    x2_min, x2_max = x2.min() - 1, x2.max() + 1\n",
    "    a = np.arange(x1_min, x1_max, h)\n",
    "    b = np.arange(x2_min, x2_max, h)\n",
    "    xx, yy = np.meshgrid(a, b)\n",
    "    return xx, yy"
   ]
  },
  {
   "cell_type": "code",
   "execution_count": 38,
   "metadata": {},
   "outputs": [
    {
     "name": "stdout",
     "output_type": "stream",
     "text": [
      "[1.  1.2 1.4 1.6 1.8 2.  2.2 2.4 2.6 2.8 1.  1.2 1.4 1.6 1.8 2.  2.2 2.4\n",
      " 2.6 2.8 1.  1.2 1.4 1.6 1.8 2.  2.2 2.4 2.6 2.8 1.  1.2 1.4 1.6 1.8 2.\n",
      " 2.2 2.4 2.6 2.8 1.  1.2 1.4 1.6 1.8 2.  2.2 2.4 2.6 2.8 1.  1.2 1.4 1.6\n",
      " 1.8 2.  2.2 2.4 2.6 2.8 1.  1.2 1.4 1.6 1.8 2.  2.2 2.4 2.6 2.8 1.  1.2\n",
      " 1.4 1.6 1.8 2.  2.2 2.4 2.6 2.8 1.  1.2 1.4 1.6 1.8 2.  2.2 2.4 2.6 2.8\n",
      " 1.  1.2 1.4 1.6 1.8 2.  2.2 2.4 2.6 2.8]\n",
      "[4.  4.  4.  4.  4.  4.  4.  4.  4.  4.  4.2 4.2 4.2 4.2 4.2 4.2 4.2 4.2\n",
      " 4.2 4.2 4.4 4.4 4.4 4.4 4.4 4.4 4.4 4.4 4.4 4.4 4.6 4.6 4.6 4.6 4.6 4.6\n",
      " 4.6 4.6 4.6 4.6 4.8 4.8 4.8 4.8 4.8 4.8 4.8 4.8 4.8 4.8 5.  5.  5.  5.\n",
      " 5.  5.  5.  5.  5.  5.  5.2 5.2 5.2 5.2 5.2 5.2 5.2 5.2 5.2 5.2 5.4 5.4\n",
      " 5.4 5.4 5.4 5.4 5.4 5.4 5.4 5.4 5.6 5.6 5.6 5.6 5.6 5.6 5.6 5.6 5.6 5.6\n",
      " 5.8 5.8 5.8 5.8 5.8 5.8 5.8 5.8 5.8 5.8]\n",
      "[[1.  4. ]\n",
      " [1.2 4. ]\n",
      " [1.4 4. ]\n",
      " [1.6 4. ]\n",
      " [1.8 4. ]\n",
      " [2.  4. ]\n",
      " [2.2 4. ]\n",
      " [2.4 4. ]\n",
      " [2.6 4. ]\n",
      " [2.8 4. ]\n",
      " [1.  4.2]\n",
      " [1.2 4.2]\n",
      " [1.4 4.2]\n",
      " [1.6 4.2]\n",
      " [1.8 4.2]\n",
      " [2.  4.2]\n",
      " [2.2 4.2]\n",
      " [2.4 4.2]\n",
      " [2.6 4.2]\n",
      " [2.8 4.2]\n",
      " [1.  4.4]\n",
      " [1.2 4.4]\n",
      " [1.4 4.4]\n",
      " [1.6 4.4]\n",
      " [1.8 4.4]\n",
      " [2.  4.4]\n",
      " [2.2 4.4]\n",
      " [2.4 4.4]\n",
      " [2.6 4.4]\n",
      " [2.8 4.4]\n",
      " [1.  4.6]\n",
      " [1.2 4.6]\n",
      " [1.4 4.6]\n",
      " [1.6 4.6]\n",
      " [1.8 4.6]\n",
      " [2.  4.6]\n",
      " [2.2 4.6]\n",
      " [2.4 4.6]\n",
      " [2.6 4.6]\n",
      " [2.8 4.6]\n",
      " [1.  4.8]\n",
      " [1.2 4.8]\n",
      " [1.4 4.8]\n",
      " [1.6 4.8]\n",
      " [1.8 4.8]\n",
      " [2.  4.8]\n",
      " [2.2 4.8]\n",
      " [2.4 4.8]\n",
      " [2.6 4.8]\n",
      " [2.8 4.8]\n",
      " [1.  5. ]\n",
      " [1.2 5. ]\n",
      " [1.4 5. ]\n",
      " [1.6 5. ]\n",
      " [1.8 5. ]\n",
      " [2.  5. ]\n",
      " [2.2 5. ]\n",
      " [2.4 5. ]\n",
      " [2.6 5. ]\n",
      " [2.8 5. ]\n",
      " [1.  5.2]\n",
      " [1.2 5.2]\n",
      " [1.4 5.2]\n",
      " [1.6 5.2]\n",
      " [1.8 5.2]\n",
      " [2.  5.2]\n",
      " [2.2 5.2]\n",
      " [2.4 5.2]\n",
      " [2.6 5.2]\n",
      " [2.8 5.2]\n",
      " [1.  5.4]\n",
      " [1.2 5.4]\n",
      " [1.4 5.4]\n",
      " [1.6 5.4]\n",
      " [1.8 5.4]\n",
      " [2.  5.4]\n",
      " [2.2 5.4]\n",
      " [2.4 5.4]\n",
      " [2.6 5.4]\n",
      " [2.8 5.4]\n",
      " [1.  5.6]\n",
      " [1.2 5.6]\n",
      " [1.4 5.6]\n",
      " [1.6 5.6]\n",
      " [1.8 5.6]\n",
      " [2.  5.6]\n",
      " [2.2 5.6]\n",
      " [2.4 5.6]\n",
      " [2.6 5.6]\n",
      " [2.8 5.6]\n",
      " [1.  5.8]\n",
      " [1.2 5.8]\n",
      " [1.4 5.8]\n",
      " [1.6 5.8]\n",
      " [1.8 5.8]\n",
      " [2.  5.8]\n",
      " [2.2 5.8]\n",
      " [2.4 5.8]\n",
      " [2.6 5.8]\n",
      " [2.8 5.8]]\n"
     ]
    }
   ],
   "source": [
    "# Playing around to understand meshgrid and ravel()\n",
    "a = np.arange(1,3,0.2)\n",
    "b = np.arange(4,6,0.2)\n",
    "xx, yy = np.meshgrid(a, b)  # multiplies a into b no of rows and b into a number of cols\n",
    "print(xx.ravel())           # converts the 2d array to a 1d array, cell by cell from left to right\n",
    "print(yy.ravel())\n",
    "\n",
    "print(np.c_[xx.ravel(),yy.ravel()])  # Stack 1-D arrays as columns into a 2-D array."
   ]
  },
  {
   "cell_type": "code",
   "execution_count": 45,
   "metadata": {},
   "outputs": [
    {
     "data": {
      "image/png": "[encoded data removed]",
      "text/plain": [
       "<Figure size 1440x504 with 1 Axes>"
      ]
     },
     "metadata": {
      "needs_background": "light"
     },
     "output_type": "display_data"
    }
   ],
   "source": [
    "# Plotting the decision boundaries\n",
    "xx, yy = makegrid(X[:,0],X[:,1])\n",
    "predictions = clf.predict(np.c_[xx.ravel(), yy.ravel()])\n",
    "plt.figure(figsize = (20,7))\n",
    "plt.scatter(xx.ravel(), yy.ravel(), c = predictions)\n",
    "plt.show()"
   ]
  }
 ],
 "metadata": {
  "kernelspec": {
   "display_name": "Python 3",
   "language": "python",
   "name": "python3"
  },
  "language_info": {
   "codemirror_mode": {
    "name": "ipython",
    "version": 3
   },
   "file_extension": ".py",
   "mimetype": "text/x-python",
   "name": "python",
   "nbconvert_exporter": "python",
   "pygments_lexer": "ipython3",
   "version": "3.8.3"
  }
 },
 "nbformat": 4,
 "nbformat_minor": 4
}
